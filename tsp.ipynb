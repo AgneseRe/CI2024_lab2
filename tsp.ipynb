{
 "cells": [
  {
   "cell_type": "markdown",
   "metadata": {},
   "source": [
    "Copyright (c) 2024 Agnese Re <agnesere43@gmail.com>\\\n",
    "GitHub account: https://github.com/AgneseRe"
   ]
  },
  {
   "cell_type": "code",
   "execution_count": null,
   "metadata": {},
   "outputs": [],
   "source": [
    "# Import libraries\n",
    "import pandas as pd\n",
    "import numpy as np\n",
    "import copy\n",
    "import matplotlib.pyplot as plt\n",
    "\n",
    "from icecream import ic\n",
    "from itertools import combinations\n",
    "from geopy.distance import geodesic\n",
    "from dataclasses import dataclass"
   ]
  },
  {
   "cell_type": "markdown",
   "metadata": {},
   "source": [
    "## Read csv and compute distance matrix\n",
    "Read a comma-separated values (csv) file into DataFrame using *read_csv* function of **pandas** library. The file does not contain any header, the first line already contains the name and geographical coordinates of a city. Columns names are passed explicitly to *names* parameter. Using the *geodesic* function of **geopy** library, the geodesic distance in kilometers between each pair of cities is computed.\n"
   ]
  },
  {
   "cell_type": "code",
   "execution_count": 832,
   "metadata": {},
   "outputs": [],
   "source": [
    "CITIES = pd.read_csv(\"cities/china.csv\", sep = \",\", header = None, names = ['Name', 'Lat', 'Long'])\n",
    "DIST_MATRIX = np.zeros((len(CITIES), len(CITIES)))\n",
    "for c1, c2 in combinations(CITIES.itertuples(), 2):\n",
    "    DIST_MATRIX[c1.Index, c2.Index] = DIST_MATRIX[c2.Index, c1.Index] = geodesic(\n",
    "        (c1.Lat, c1.Long), (c2.Lat, c2.Long)\n",
    "    ).km"
   ]
  },
  {
   "cell_type": "code",
   "execution_count": 833,
   "metadata": {},
   "outputs": [
    {
     "data": {
      "text/html": [
       "<div>\n",
       "<style scoped>\n",
       "    .dataframe tbody tr th:only-of-type {\n",
       "        vertical-align: middle;\n",
       "    }\n",
       "\n",
       "    .dataframe tbody tr th {\n",
       "        vertical-align: top;\n",
       "    }\n",
       "\n",
       "    .dataframe thead th {\n",
       "        text-align: right;\n",
       "    }\n",
       "</style>\n",
       "<table border=\"1\" class=\"dataframe\">\n",
       "  <thead>\n",
       "    <tr style=\"text-align: right;\">\n",
       "      <th></th>\n",
       "      <th>Name</th>\n",
       "      <th>Lat</th>\n",
       "      <th>Long</th>\n",
       "    </tr>\n",
       "  </thead>\n",
       "  <tbody>\n",
       "    <tr>\n",
       "      <th>0</th>\n",
       "      <td>Acheng</td>\n",
       "      <td>45.540000</td>\n",
       "      <td>126.960000</td>\n",
       "    </tr>\n",
       "    <tr>\n",
       "      <th>1</th>\n",
       "      <td>Aksu</td>\n",
       "      <td>41.150000</td>\n",
       "      <td>80.250000</td>\n",
       "    </tr>\n",
       "    <tr>\n",
       "      <th>2</th>\n",
       "      <td>Alaer</td>\n",
       "      <td>40.515556</td>\n",
       "      <td>81.263611</td>\n",
       "    </tr>\n",
       "    <tr>\n",
       "      <th>3</th>\n",
       "      <td>Altay</td>\n",
       "      <td>47.840000</td>\n",
       "      <td>88.130000</td>\n",
       "    </tr>\n",
       "    <tr>\n",
       "      <th>4</th>\n",
       "      <td>Anbu</td>\n",
       "      <td>23.460000</td>\n",
       "      <td>116.680000</td>\n",
       "    </tr>\n",
       "  </tbody>\n",
       "</table>\n",
       "</div>"
      ],
      "text/plain": [
       "     Name        Lat        Long\n",
       "0  Acheng  45.540000  126.960000\n",
       "1    Aksu  41.150000   80.250000\n",
       "2   Alaer  40.515556   81.263611\n",
       "3   Altay  47.840000   88.130000\n",
       "4    Anbu  23.460000  116.680000"
      ]
     },
     "execution_count": 833,
     "metadata": {},
     "output_type": "execute_result"
    }
   ],
   "source": [
    "CITIES.head()   # first 5 rows of the CITIES dataframe"
   ]
  },
  {
   "cell_type": "code",
   "execution_count": 834,
   "metadata": {},
   "outputs": [],
   "source": [
    "CITIES_NAMES, CITY_INDEXES = map(np.array, zip(*[(city['Name'], i) for i, city in CITIES.iterrows()]))"
   ]
  },
  {
   "cell_type": "markdown",
   "metadata": {},
   "source": [
    "## Data Class and fitness function definition\n",
    "The data class *Individual* is defined. The *genome* attribute holds an individual's genome. The *fitness* attribute quantifies how well the individual performs with respect to the objective function. Initially, it is set to *None*. The fitness score will be calculate later, after the genome is evaluated.  \n",
    "*e.g.* If the number of cities for TSP is equal to 8, a possible *Individual* object is ```Individual(genome=array([7, 3, 0, 2, 1, 6, 4, 5]), fitness=np.float64(-2306.6849123742595))```."
   ]
  },
  {
   "cell_type": "code",
   "execution_count": 835,
   "metadata": {},
   "outputs": [],
   "source": [
    "@dataclass\n",
    "class Individual:\n",
    "    genome: np.ndarray\n",
    "    fitness: float = None\n",
    "\n",
    "def calculate_fitness(individual: Individual) -> float:\n",
    "    tot_cost = 0.0\n",
    "    for c1, c2 in zip(individual.genome, np.concatenate((individual.genome[1:], individual.genome[:1]))):\n",
    "        tot_cost += DIST_MATRIX[c1, c2]\n",
    "    return -tot_cost"
   ]
  },
  {
   "cell_type": "markdown",
   "metadata": {},
   "source": [
    "## Greedy Approach\n",
    "Start from city 0 and move, from time to time, to the *nearest* city. It's an algorithm that leads to immediate cost gain, but becomes awful in the process. It is a relatively fast approach (*e.g.* 8 steps in case of 8 cities), but it leads to an approximate solution."
   ]
  },
  {
   "cell_type": "code",
   "execution_count": null,
   "metadata": {},
   "outputs": [],
   "source": [
    "# At the beginning, no city is visited\n",
    "visited = np.full(len(CITIES), False)\n",
    "\n",
    "# Set the starting point and set it to visited\n",
    "city = 0\n",
    "visited[city] = True\n",
    "dist = DIST_MATRIX.copy()\n",
    "\n",
    "# List to store results\n",
    "tsp = []\n",
    "tsp.append(int(city))\n",
    "\n",
    "while not np.all(visited):\n",
    "    # Find the minimum cost and the corresponding city among those not yet visited\n",
    "    closest_cost = np.min([dist[city, adj] for adj in range(len(CITIES)) if not visited[adj] and adj != city])\n",
    "    closest = np.where(dist[city] == closest_cost)[0][0]    # e.g. (array([7]),) -> tuple first element, array first element\n",
    "    # Set the found city to visited and add it to the tsp list\n",
    "    visited[closest] = True\n",
    "    tsp.append(int(closest))\n",
    "    # Update city\n",
    "    city = closest\n",
    "\n",
    "# Print result\n",
    "best_path = Individual(tsp)\n",
    "best_path.fitness = calculate_fitness(best_path)\n",
    "print(f\"{len(CITIES)} cities, shortest tour is {-best_path.fitness:.2f} km\")\n",
    "print([str(CITIES_NAMES[index]) for index in tsp])"
   ]
  },
  {
   "cell_type": "markdown",
   "metadata": {},
   "source": [
    "## Evolutionary Algorithm"
   ]
  },
  {
   "cell_type": "markdown",
   "metadata": {},
   "source": [
    "A population is made of *Individual*s, where each of them represents a unique ordered sequence of cities. The initial population is created using a *greedy* approach. Instead of starting with purely random permutations, each individual begins from a randomly selected city and follows a \"greedy neighbor\" heuristic to build the path, choosing one of the closest three cities at each step. The choice of starting from an almost *random* population helps provide a wide search base for the **evolutionary** algorithm, allowing it to explore and optimize solutions more effectively."
   ]
  },
  {
   "cell_type": "code",
   "execution_count": 836,
   "metadata": {},
   "outputs": [],
   "source": [
    "POPULATION_SIZE = 100\n",
    "population = []\n",
    "rng = np.random.default_rng()"
   ]
  },
  {
   "cell_type": "code",
   "execution_count": 837,
   "metadata": {},
   "outputs": [],
   "source": [
    "def greedy_neighbor(start_city, k = 3):\n",
    "    unvisited = set(CITY_INDEXES)\n",
    "    unvisited.remove(start_city)\n",
    "    current_city = start_city\n",
    "    path = [int(current_city)]\n",
    "    \n",
    "    while unvisited:\n",
    "        # Choose a random city from the closest three (element of randomness)\n",
    "        neighbors = sorted(unvisited, key=lambda city: DIST_MATRIX[current_city][city])[:k]\n",
    "        next_city = rng.choice(neighbors)\n",
    "\n",
    "        path.append(int(next_city))\n",
    "        unvisited.remove(next_city)\n",
    "        current_city = next_city\n",
    "    \n",
    "    new_individual = Individual(np.array(path))\n",
    "    new_individual.fitness = calculate_fitness(new_individual)\n",
    "    \n",
    "    return new_individual"
   ]
  },
  {
   "cell_type": "markdown",
   "metadata": {},
   "source": [
    "### Parents selection"
   ]
  },
  {
   "cell_type": "code",
   "execution_count": 838,
   "metadata": {},
   "outputs": [],
   "source": [
    "def parent_selection(population: np.ndarray) -> Individual:\n",
    "    candidates = sorted(np.random.choice(population, 2), key = lambda i: i.fitness, reverse=True)\n",
    "    return candidates[0]"
   ]
  },
  {
   "cell_type": "markdown",
   "metadata": {},
   "source": [
    "### Mutation and Cross-over"
   ]
  },
  {
   "cell_type": "markdown",
   "metadata": {},
   "source": [
    "A new offspring is constructed mutating one selected parent or crossing over two of them. The *displacement mutation* and the *inver-over crossover* were found to be the best strategies for obtaining good results."
   ]
  },
  {
   "cell_type": "code",
   "execution_count": 839,
   "metadata": {},
   "outputs": [],
   "source": [
    "# Two possible types of mutation\n",
    "def swap_mutation(individual: Individual) -> Individual:\n",
    "    new_individual = copy.deepcopy(individual)\n",
    "    i1, i2 = np.random.choice(len(individual.genome), 2, replace = False)\n",
    "    new_individual.genome[i1], new_individual.genome[i2] = new_individual.genome[i2], new_individual.genome[i1]\n",
    "    new_individual.fitness = calculate_fitness(new_individual)\n",
    "    return new_individual\n",
    "\n",
    "def displacement_mutation(individual: Individual) -> Individual:\n",
    "    genome = individual.genome\n",
    "    start = np.random.randint(0, len(genome) - 2)   # cut point 1\n",
    "    end = np.random.randint(start + 1, len(genome) - 1) # cut point 2\n",
    "    segment = genome[start: end+1]\n",
    "    genome = np.concatenate((genome[:start], genome[end+1:]))\n",
    "    random_location = np.random.randint(0, len(genome))\n",
    "    new_genome = np.concatenate((genome[:random_location], segment, genome[random_location:]))\n",
    "    new_individual = Individual(new_genome)\n",
    "    new_individual.fitness = calculate_fitness(new_individual)\n",
    "    return new_individual\n",
    "\n",
    "# Two possible types of cross-over\n",
    "def order_crossover(parent1: Individual, parent2: Individual):\n",
    "    parent1, parent2 = Individual(parent1.genome, parent1.fitness), Individual(parent2.genome, parent2.fitness)\n",
    "    size = len(parent1.genome)\n",
    "\n",
    "    child = np.full(size, -1)\n",
    "    start, end = sorted(np.random.choice(size, 2, replace=False))\n",
    "    child[start:end+1] = parent1.genome[start:end+1]\n",
    "    remaining_cities = [city for city in parent2.genome if city not in child]\n",
    "    \n",
    "    j = 0\n",
    "    for i in range(size):\n",
    "        if child[i] == -1:  # Se è un segnaposto (-1)\n",
    "            child[i] = remaining_cities[j]\n",
    "            j += 1\n",
    "\n",
    "    new_individual = Individual(child)\n",
    "    new_individual.fitness = calculate_fitness(new_individual)\n",
    "    \n",
    "    return new_individual\n",
    "\n",
    "def inver_over(parent1: Individual, parent2: Individual) -> Individual:\n",
    "    genome1, genome2 = parent1.genome, parent2.genome\n",
    "\n",
    "    # select one random gene from the first parent\n",
    "    index1 = np.random.randint(0, len(genome1))\n",
    "    gene1 = genome1[index1]\n",
    "\n",
    "    # select edge from the second parent (only one trait)\n",
    "    index2 = np.where(genome2 == gene1)[0][0]\n",
    "    gene2 = genome2[index2+1] if index2 != len(genome2)-1 else genome2[0]   # cyclic genotype\n",
    "\n",
    "    # generate offspring\n",
    "    flip_parent1 = np.concatenate((genome1[index1:], genome1[:index1]))\n",
    "    index_gene2_in_flip_parent1 = np.where(flip_parent1 == gene2)[0][0]\n",
    "    sequence = flip_parent1[1:index_gene2_in_flip_parent1]\n",
    "    offspring_genome = np.concatenate((np.array([gene1]), np.array([gene2]), sequence[::-1], flip_parent1[index_gene2_in_flip_parent1+1:]))\n",
    "    \n",
    "    offspring = Individual(offspring_genome)\n",
    "    offspring.fitness = calculate_fitness(offspring)\n",
    "\n",
    "    return offspring"
   ]
  },
  {
   "cell_type": "markdown",
   "metadata": {},
   "source": [
    "### Hill climbing\n",
    "Local search optimization techniques have been integrated into the genetic algorithm. The *hill climbing* technique was found to be useful for achieving optimal results."
   ]
  },
  {
   "cell_type": "code",
   "execution_count": 840,
   "metadata": {},
   "outputs": [],
   "source": [
    "MAX_ATTEMPTS = 20\n",
    "INITIAL_TEMP = 100\n",
    "COOLING_RATE = 0.95\n",
    "\n",
    "def simulated_annealing(individual: Individual) -> Individual:\n",
    "    improved_individual = copy.deepcopy(individual)\n",
    "    temperature = INITIAL_TEMP\n",
    "    for _ in range(MAX_ATTEMPTS):\n",
    "        neighbor = displacement_mutation(improved_individual)\n",
    "        delta_fitness = neighbor.fitness - improved_individual.fitness\n",
    "        if delta_fitness > 0 or np.random.random() < np.exp(delta_fitness/temperature):\n",
    "            improved_individual = neighbor\n",
    "        temperature *= COOLING_RATE\n",
    "    return improved_individual\n",
    "\n",
    "def hill_climbing(individual: Individual) -> Individual:\n",
    "    improved_individual = copy.deepcopy(individual)\n",
    "    for _ in range(MAX_ATTEMPTS):\n",
    "        neighbor = displacement_mutation(improved_individual)\n",
    "        delta_fitness = neighbor.fitness - individual.fitness\n",
    "        if delta_fitness > 0:\n",
    "            improved_individual = neighbor\n",
    "    return improved_individual"
   ]
  },
  {
   "cell_type": "code",
   "execution_count": 844,
   "metadata": {},
   "outputs": [
    {
     "name": "stdout",
     "output_type": "stream",
     "text": [
      "[np.float64(-93421.35546488913), np.float64(-93765.01205738135), np.float64(-93776.53692402338), np.float64(-93778.46406478905), np.float64(-94030.8773527937), np.float64(-94484.01076604103), np.float64(-94987.67167290256), np.float64(-95441.4006311643), np.float64(-95521.6242146107), np.float64(-95614.89558064446), np.float64(-95708.2476347061), np.float64(-95718.89401197092), np.float64(-95843.48549335153), np.float64(-96026.50408117521), np.float64(-96080.82739496972), np.float64(-96148.59018025687), np.float64(-96169.86224686896), np.float64(-96216.30127077097), np.float64(-96306.33032984385), np.float64(-96503.24131708416), np.float64(-96537.89212566124), np.float64(-96604.49217767958), np.float64(-96781.17054984694), np.float64(-96903.18799468513), np.float64(-96925.25667996681), np.float64(-96929.3810255984), np.float64(-96972.82175743622), np.float64(-97085.1502584108), np.float64(-97284.7020645201), np.float64(-97403.75880262861), np.float64(-97452.8354613155), np.float64(-97474.28964811804), np.float64(-97506.2158053623), np.float64(-97576.32740582195), np.float64(-97903.52270919389), np.float64(-97930.07907240695), np.float64(-97950.49071520982), np.float64(-98002.73805924272), np.float64(-98013.70099255441), np.float64(-98102.4760180575), np.float64(-98176.29176157042), np.float64(-98214.28893142394), np.float64(-98249.95297179319), np.float64(-98284.9136534148), np.float64(-98311.883782402), np.float64(-98354.93578610814), np.float64(-98398.89371901909), np.float64(-98438.31397555751), np.float64(-98446.54064751118), np.float64(-98462.14630223413), np.float64(-98492.05664680156), np.float64(-98498.18986504817), np.float64(-98541.7690726007), np.float64(-98592.3326079013), np.float64(-98620.4532695654), np.float64(-98665.33573823291), np.float64(-98699.28097277362), np.float64(-98699.5862114579), np.float64(-98835.67770752615), np.float64(-98926.54584015174), np.float64(-98928.97450877746), np.float64(-98951.71317597444), np.float64(-98952.70183359095), np.float64(-98982.91885566067), np.float64(-99003.36442532875), np.float64(-99034.34373518148), np.float64(-99116.21250261842), np.float64(-99201.77807759802), np.float64(-99272.91950184165), np.float64(-99288.04719475254), np.float64(-99328.20558041416), np.float64(-99339.60622887434), np.float64(-99379.05121230659), np.float64(-99401.98891485477), np.float64(-99424.33140772305), np.float64(-99529.2039240794), np.float64(-99723.75848451743), np.float64(-99740.87955134267), np.float64(-99807.44073862582), np.float64(-99807.8011038246), np.float64(-99892.49911617926), np.float64(-99915.76694088179), np.float64(-99921.54683725748), np.float64(-100053.99665917993), np.float64(-100084.41107190351), np.float64(-100246.55346669497), np.float64(-100304.82814220314), np.float64(-100354.6305433373), np.float64(-100367.53869077248), np.float64(-100390.66583790418), np.float64(-100409.51308271519), np.float64(-100414.01086424483), np.float64(-100452.1878218146), np.float64(-100472.90856872883), np.float64(-100478.61672164522), np.float64(-100544.32755247699), np.float64(-100560.82554931362), np.float64(-100586.81058454534), np.float64(-100590.10863302145), np.float64(-100609.93492943366), np.float64(-100613.55132712761), np.float64(-100632.24170523023), np.float64(-100709.48446447015), np.float64(-100756.09080206066), np.float64(-100821.59164310785), np.float64(-100843.93447573917), np.float64(-100845.0160915174), np.float64(-100871.23327229662), np.float64(-100895.90120264923), np.float64(-100903.38412139799), np.float64(-100928.94547041706), np.float64(-100936.22339368274), np.float64(-100957.23582658864), np.float64(-101004.87387716027), np.float64(-101019.96616608475), np.float64(-101036.25405686886), np.float64(-101062.58289727927), np.float64(-101129.22516828003), np.float64(-101132.48472856818), np.float64(-101145.86833338584), np.float64(-101164.20023537711), np.float64(-101194.92512005563), np.float64(-101242.73394129505), np.float64(-101270.62000673708), np.float64(-101278.94568986373), np.float64(-101296.71432782478), np.float64(-101330.56829326948), np.float64(-101360.89126646542), np.float64(-101408.61214969415), np.float64(-101505.40339393342), np.float64(-101573.14864522619), np.float64(-101578.15285100011), np.float64(-101609.02975790996), np.float64(-101611.56273789305), np.float64(-101613.86852227608), np.float64(-101630.76791050198), np.float64(-101649.33541667105), np.float64(-101682.25610560682), np.float64(-101717.10349941852), np.float64(-101724.86608949894), np.float64(-101743.831067794), np.float64(-101765.20207305026), np.float64(-101801.47430311007), np.float64(-101815.76715240703), np.float64(-101850.04053050725), np.float64(-101857.1659804777), np.float64(-101871.24565764016), np.float64(-101954.25210382248), np.float64(-101955.5549553955), np.float64(-101988.41918543378), np.float64(-102007.59895076358), np.float64(-102034.75348882678), np.float64(-102036.36730691747), np.float64(-102040.01385110703), np.float64(-102046.53665608188), np.float64(-102053.86906191015), np.float64(-102056.81480045896), np.float64(-102074.92949853014), np.float64(-102099.53423453736), np.float64(-102149.6418456477), np.float64(-102163.91492485137), np.float64(-102188.6168801671), np.float64(-102243.52922228756), np.float64(-102289.85567172493), np.float64(-102316.17149451823), np.float64(-102332.88323520776), np.float64(-102347.15075808315), np.float64(-102382.19266869938), np.float64(-102417.44336171482), np.float64(-102433.04382564654), np.float64(-102443.351508248), np.float64(-102463.33363267806), np.float64(-102471.40473284693), np.float64(-102477.34608104693), np.float64(-102505.50393565994), np.float64(-102542.23938934992), np.float64(-102567.76778178134), np.float64(-102581.4897438367), np.float64(-102636.83529472555), np.float64(-102651.16086555253), np.float64(-102663.68062611576), np.float64(-102665.23407838334), np.float64(-102674.87509348098), np.float64(-102705.42402232248), np.float64(-102714.10669704164), np.float64(-102756.56274896793), np.float64(-102758.10635204831), np.float64(-102758.54931665948), np.float64(-102762.97367438195), np.float64(-102828.93131186387), np.float64(-102849.32013186466), np.float64(-102865.84265849883), np.float64(-102867.98211090601), np.float64(-102876.21831725337), np.float64(-102941.59289510985), np.float64(-103019.89738976989), np.float64(-103049.21692693871), np.float64(-103051.52780949375), np.float64(-103052.10851640305), np.float64(-103057.66697389458), np.float64(-103065.3085551848), np.float64(-103075.09022434145), np.float64(-103145.76369053271), np.float64(-103163.35328476317), np.float64(-103166.08604556804), np.float64(-103183.12997798622), np.float64(-103234.86427550422), np.float64(-103272.06329033559), np.float64(-103275.16814266778), np.float64(-103278.14302183465), np.float64(-103331.4079815914), np.float64(-103347.52398910021), np.float64(-103358.41890475746), np.float64(-103370.87915729207), np.float64(-103381.45789487427), np.float64(-103394.17560512667), np.float64(-103398.30367132038), np.float64(-103411.11962131922), np.float64(-103462.16147387179), np.float64(-103470.17690396695), np.float64(-103478.59057705996), np.float64(-103503.5640782575), np.float64(-103518.50240820093), np.float64(-103584.2669413585), np.float64(-103668.9677233269), np.float64(-103672.08365589104), np.float64(-103691.32878730092), np.float64(-103712.62761801378), np.float64(-103723.21797067525), np.float64(-103725.17958415495), np.float64(-103759.19215534253), np.float64(-103781.14666789351), np.float64(-103872.807604361), np.float64(-103927.33179974566), np.float64(-103963.36537954507), np.float64(-103976.4655757765), np.float64(-104007.68484827229), np.float64(-104011.28217016491), np.float64(-104028.25388028385), np.float64(-104035.66667900562), np.float64(-104036.39007905344), np.float64(-104046.65582881572), np.float64(-104049.89158873819), np.float64(-104175.27890867837), np.float64(-104178.61399486818), np.float64(-104182.30502252033), np.float64(-104183.93568182114), np.float64(-104251.38658957904), np.float64(-104267.28111280367), np.float64(-104301.76899580874), np.float64(-104310.91989592873), np.float64(-104534.50143029887), np.float64(-104565.64573137622), np.float64(-104591.22177517184), np.float64(-104604.86701831661), np.float64(-104616.96281109905), np.float64(-104632.51515100982), np.float64(-104639.37562188157), np.float64(-104672.38235603872), np.float64(-104832.50376415478), np.float64(-104857.90320734441), np.float64(-104915.45546253613), np.float64(-104989.88965835176), np.float64(-105079.36262690747), np.float64(-105123.14623777484), np.float64(-105126.76855242738), np.float64(-105150.35171620925), np.float64(-105169.92621218522), np.float64(-105235.58619941406), np.float64(-105257.74052292452), np.float64(-105264.2564044203), np.float64(-105285.8357402112), np.float64(-105338.4897592505), np.float64(-105388.79142229896), np.float64(-105490.71101072148), np.float64(-105518.04936485316), np.float64(-105532.21674432715), np.float64(-105551.24816810501), np.float64(-105571.88661147644), np.float64(-105581.28298476334), np.float64(-105646.80717731401), np.float64(-105655.6207079926), np.float64(-105667.20825480107), np.float64(-105680.87216566503), np.float64(-105732.59085659316), np.float64(-105743.27398776614), np.float64(-105751.88158809076), np.float64(-105755.39969259062), np.float64(-105764.32418321507), np.float64(-105793.10822499356), np.float64(-105837.17041765485), np.float64(-105840.73807240403), np.float64(-105894.04946805222), np.float64(-105927.02668764356), np.float64(-105939.3902173107), np.float64(-106006.66625293692), np.float64(-106017.73734891436), np.float64(-106041.22239053759), np.float64(-106043.46149163955), np.float64(-106087.9493000288), np.float64(-106121.51686176746), np.float64(-106166.79747515226), np.float64(-106215.246567668), np.float64(-106247.79645645885), np.float64(-106315.65373273822), np.float64(-106344.46549698696), np.float64(-106423.0399994072), np.float64(-106485.52302616123), np.float64(-106485.81001396656), np.float64(-106485.94641751277), np.float64(-106504.83980002171), np.float64(-106606.51968887186), np.float64(-106666.0393185954), np.float64(-106708.7684021295), np.float64(-106710.36201045752), np.float64(-106775.49929343098), np.float64(-106850.03766682038), np.float64(-106873.32562382102), np.float64(-106878.59596146276), np.float64(-106945.07703874895), np.float64(-106967.09495225294), np.float64(-106979.82956563547), np.float64(-107051.80631524102), np.float64(-107110.96264328716), np.float64(-107152.2970877757), np.float64(-107177.8903986076), np.float64(-107226.48963530295), np.float64(-107277.70388691577), np.float64(-107297.26124067548), np.float64(-107335.82602216727), np.float64(-107371.0115424295), np.float64(-107413.4085107148), np.float64(-107535.54316902065), np.float64(-107632.5897600522), np.float64(-107644.90329166253), np.float64(-107722.48038097723), np.float64(-107727.42735869711), np.float64(-107770.51786411252), np.float64(-107868.78755677116), np.float64(-107881.33767529309), np.float64(-108115.17663193557), np.float64(-108244.65663432956), np.float64(-108282.94867871511), np.float64(-108512.42420715457), np.float64(-108525.11641365703), np.float64(-108546.35131349537), np.float64(-108560.83609679283), np.float64(-108774.58947714043), np.float64(-108821.38614317225), np.float64(-108854.89813668634), np.float64(-108989.07712865139), np.float64(-109127.67158756846), np.float64(-109169.46336704542), np.float64(-109208.86402969221), np.float64(-109214.87392127862), np.float64(-109236.52235226601), np.float64(-109272.84844913856), np.float64(-109540.37450503703), np.float64(-109540.98752576111), np.float64(-109652.05036773566), np.float64(-109665.55013201409), np.float64(-109774.93249050403), np.float64(-109793.1483116861), np.float64(-109846.26422202917), np.float64(-110529.80223848899), np.float64(-110629.9276121407), np.float64(-110726.18425670394), np.float64(-110950.17566904158), np.float64(-110968.57904456378), np.float64(-111023.77403282658), np.float64(-111095.6056937695), np.float64(-111854.24231353865), np.float64(-111933.75463845159), np.float64(-112183.13818805915), np.float64(-113476.1702056751)]\n"
     ]
    }
   ],
   "source": [
    "# Initial population\n",
    "for _ in range(POPULATION_SIZE):\n",
    "       start_city = int(rng.choice(CITY_INDEXES))\n",
    "       population.append(greedy_neighbor(start_city))\n",
    "print(sorted([i.fitness for i in population], reverse=True))"
   ]
  },
  {
   "cell_type": "markdown",
   "metadata": {},
   "source": [
    "### Process"
   ]
  },
  {
   "cell_type": "code",
   "execution_count": null,
   "metadata": {},
   "outputs": [],
   "source": [
    "CROSSOVER_PROBABILITY = .40\n",
    "OFFSPRING_SIZE = POPULATION_SIZE//5\n",
    "NUM_GENERATIONS = 100_000\n",
    "\n",
    "for _ in range(NUM_GENERATIONS):\n",
    "    population.sort(key = lambda i: i.fitness, reverse=True)\n",
    "    offsprings = []\n",
    "    \n",
    "    while len(offsprings) < OFFSPRING_SIZE:\n",
    "        xover_probability = np.random.random()\n",
    "        if xover_probability < CROSSOVER_PROBABILITY:\n",
    "            parent1 = parent_selection(population)\n",
    "            parent2 = parent_selection(population)\n",
    "            offspring = inver_over(parent1, parent2)\n",
    "        else:   # no crossover\n",
    "            parent1 = parent_selection(population)\n",
    "            offspring = displacement_mutation(parent1)\n",
    "\n",
    "        offsprings.append(hill_climbing(offspring))\n",
    "    population.extend(offsprings)\n",
    "    population.sort(key=lambda i: i.fitness, reverse=True)\n",
    "    population = population[:POPULATION_SIZE]\n",
    "\n",
    "population.sort(key = lambda i: i.fitness, reverse = True)\n",
    "shortest_path = [str(CITIES_NAMES[index]) for index in population[0].genome]\n",
    "print(f\"{len(CITIES)} cities, shortest tour is {-population[0].fitness:.2f} km\")\n",
    "print(shortest_path)"
   ]
  },
  {
   "cell_type": "markdown",
   "metadata": {},
   "source": [
    "## Plotting"
   ]
  },
  {
   "cell_type": "code",
   "execution_count": null,
   "metadata": {},
   "outputs": [],
   "source": [
    "lat_shortest = [CITIES.iloc[index]['Lat'] for index in population[0].genome]\n",
    "long_shortest = [CITIES.iloc[index]['Long'] for index in population[0].genome]\n",
    "lat_shortest.append(lat_shortest[0])\n",
    "long_shortest.append(long_shortest[0])\n",
    "\n",
    "fig, ax = plt.subplots()\n",
    "ax.plot(lat_shortest, long_shortest, linestyle=\"-.\", color=\"blue\", label='Best Route', linewidth=1)\n",
    "ax.scatter(lat_shortest, long_shortest, color='red', marker='o', label='Cities', s=20)\n",
    "plt.legend()\n",
    "\n",
    "plt.title(label=\"TSP Best Route Using GA\", fontsize=15, color=\"k\")\n",
    "str_params = f'\\n{NUM_GENERATIONS} Generations\\n{POPULATION_SIZE} Population Size\\n{CROSSOVER_PROBABILITY:.2f} Cross-over'\n",
    "plt.suptitle(\"Total Distance Travelled: \" + \n",
    "             str(round(population[0].fitness, 2))[1:] + \" km\" + \n",
    "             str_params, fontsize=15, y = 1.047)\n",
    "\n",
    "fig.set_size_inches(8, 8)  \n",
    "plt.tight_layout()  \n",
    "plt.savefig('plots/tsp_best_route_china_100_000.png', dpi=300, bbox_inches='tight')\n",
    "plt.show()"
   ]
  }
 ],
 "metadata": {
  "kernelspec": {
   "display_name": "CI2024",
   "language": "python",
   "name": "python3"
  },
  "language_info": {
   "codemirror_mode": {
    "name": "ipython",
    "version": 3
   },
   "file_extension": ".py",
   "mimetype": "text/x-python",
   "name": "python",
   "nbconvert_exporter": "python",
   "pygments_lexer": "ipython3",
   "version": "3.10.11"
  }
 },
 "nbformat": 4,
 "nbformat_minor": 2
}

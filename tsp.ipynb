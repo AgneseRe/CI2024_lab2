{
 "cells": [
  {
   "cell_type": "markdown",
   "metadata": {},
   "source": [
    "Copyright (c) 2024 Agnese Re <agnesere43@gmail.com>\\\n",
    "GitHub account: https://github.com/AgneseRe"
   ]
  },
  {
   "cell_type": "code",
   "execution_count": 1,
   "metadata": {},
   "outputs": [],
   "source": [
    "# Import libraries\n",
    "import pandas as pd\n",
    "import numpy as np\n",
    "import copy\n",
    "import matplotlib.pyplot as plt\n",
    "\n",
    "from icecream import ic\n",
    "from tqdm.auto import tqdm\n",
    "from itertools import combinations\n",
    "from geopy.distance import geodesic\n",
    "from dataclasses import dataclass"
   ]
  },
  {
   "cell_type": "markdown",
   "metadata": {},
   "source": [
    "### Read csv and compute distance matrix\n",
    "Read a comma-separated values (csv) file into DataFrame using *read_csv* function of **pandas** library. The file does not contain any header, the first line already contains the name and geographical coordinates of a city. Columns names are passed explicitly to *names* parameter. Using the *geodesic* function of **geopy** library, the geodesic distance in kilometers between each pair of cities is computed.\n"
   ]
  },
  {
   "cell_type": "code",
   "execution_count": 2,
   "metadata": {},
   "outputs": [],
   "source": [
    "CITIES = pd.read_csv(\"cities/italy.csv\", sep = \",\", header = None, names = ['Name', 'Lat', 'Long'])\n",
    "DIST_MATRIX = np.zeros((len(CITIES), len(CITIES)))\n",
    "for c1, c2 in combinations(CITIES.itertuples(), 2):\n",
    "    DIST_MATRIX[c1.Index, c2.Index] = DIST_MATRIX[c2.Index, c1.Index] = geodesic(\n",
    "        (c1.Lat, c1.Long), (c2.Lat, c2.Long)\n",
    "    ).km"
   ]
  },
  {
   "cell_type": "code",
   "execution_count": 3,
   "metadata": {},
   "outputs": [
    {
     "data": {
      "text/html": [
       "<div>\n",
       "<style scoped>\n",
       "    .dataframe tbody tr th:only-of-type {\n",
       "        vertical-align: middle;\n",
       "    }\n",
       "\n",
       "    .dataframe tbody tr th {\n",
       "        vertical-align: top;\n",
       "    }\n",
       "\n",
       "    .dataframe thead th {\n",
       "        text-align: right;\n",
       "    }\n",
       "</style>\n",
       "<table border=\"1\" class=\"dataframe\">\n",
       "  <thead>\n",
       "    <tr style=\"text-align: right;\">\n",
       "      <th></th>\n",
       "      <th>Name</th>\n",
       "      <th>Lat</th>\n",
       "      <th>Long</th>\n",
       "    </tr>\n",
       "  </thead>\n",
       "  <tbody>\n",
       "    <tr>\n",
       "      <th>0</th>\n",
       "      <td>Ancona</td>\n",
       "      <td>43.60</td>\n",
       "      <td>13.50</td>\n",
       "    </tr>\n",
       "    <tr>\n",
       "      <th>1</th>\n",
       "      <td>Andria</td>\n",
       "      <td>41.23</td>\n",
       "      <td>16.29</td>\n",
       "    </tr>\n",
       "    <tr>\n",
       "      <th>2</th>\n",
       "      <td>Bari</td>\n",
       "      <td>41.12</td>\n",
       "      <td>16.87</td>\n",
       "    </tr>\n",
       "    <tr>\n",
       "      <th>3</th>\n",
       "      <td>Bergamo</td>\n",
       "      <td>45.70</td>\n",
       "      <td>9.67</td>\n",
       "    </tr>\n",
       "    <tr>\n",
       "      <th>4</th>\n",
       "      <td>Bologna</td>\n",
       "      <td>44.50</td>\n",
       "      <td>11.34</td>\n",
       "    </tr>\n",
       "  </tbody>\n",
       "</table>\n",
       "</div>"
      ],
      "text/plain": [
       "      Name    Lat   Long\n",
       "0   Ancona  43.60  13.50\n",
       "1   Andria  41.23  16.29\n",
       "2     Bari  41.12  16.87\n",
       "3  Bergamo  45.70   9.67\n",
       "4  Bologna  44.50  11.34"
      ]
     },
     "execution_count": 3,
     "metadata": {},
     "output_type": "execute_result"
    }
   ],
   "source": [
    "CITIES.head()   # first 5 rows of the CITIES dataframe"
   ]
  },
  {
   "cell_type": "code",
   "execution_count": 4,
   "metadata": {},
   "outputs": [],
   "source": [
    "CITIES_NAMES, CITY_INDEXES = map(np.array, zip(*[(city['Name'], i) for i, city in CITIES.iterrows()]))"
   ]
  },
  {
   "cell_type": "markdown",
   "metadata": {},
   "source": [
    "### Data Class and fitness function definition\n",
    "The data class *Individual* is defined. The *genome* attribute holds an individual's genome. The *fitness* attribute quantifies how well the individual performs with respect to the objective function. Initially, it is set to *None*. The fitness score will be calculate later, after the genome is evaluated.  \n",
    "*e.g.* If the number of cities for TSP is equal to 8, a possible *Individual* object is ```Individual(genome=array([7, 3, 0, 2, 1, 6, 4, 5]), fitness=np.float64(2306.6849123742595))```."
   ]
  },
  {
   "cell_type": "code",
   "execution_count": 5,
   "metadata": {},
   "outputs": [],
   "source": [
    "@dataclass\n",
    "class Individual:\n",
    "    genome: np.ndarray\n",
    "    fitness: float = None\n",
    "\n",
    "def calculate_fitness(individual: Individual) -> float:\n",
    "    tot_cost = 0.0\n",
    "    for c1, c2 in zip(individual.genome, np.concatenate((individual.genome[1:], individual.genome[:1]))):\n",
    "        tot_cost += DIST_MATRIX[c1, c2]\n",
    "    return tot_cost"
   ]
  },
  {
   "cell_type": "markdown",
   "metadata": {},
   "source": [
    "### Greedy Approach\n",
    "Start from city 0 and move, from time to time, to the *nearest* city. It's an algorithm that leads to immediate cost gain, but becomes awful in the process. It is a fast approach (*e.g.* 8 steps in case of 8 cities), but it leads to an approximate solution."
   ]
  },
  {
   "cell_type": "code",
   "execution_count": 6,
   "metadata": {},
   "outputs": [
    {
     "name": "stdout",
     "output_type": "stream",
     "text": [
      "46 cities, shortest tour is 4436.03 km\n",
      "['Ancona', 'Rimini', 'Forlì', 'Ravenna', 'Ferrara', 'Bologna', 'Modena', \"Reggio nell'Emilia\", 'Parma', 'Piacenza', 'Milan', 'Monza', 'Bergamo', 'Brescia', 'Verona', 'Vicenza', 'Padua', 'Venice', 'Trieste', 'Bolzano', 'Trento', 'Novara', 'Turin', 'Genoa', 'Leghorn', 'Prato', 'Florence', 'Perugia', 'Terni', 'Rome', 'Latina', 'Giugliano in Campania', 'Naples', 'Salerno', 'Foggia', 'Andria', 'Bari', 'Taranto', 'Messina', 'Reggio di Calabria', 'Catania', 'Syracuse', 'Palermo', 'Cagliari', 'Sassari', 'Pescara']\n"
     ]
    }
   ],
   "source": [
    "# At the beginning, no city is visited\n",
    "visited = np.full(len(CITIES), False)\n",
    "\n",
    "# Set the starting point and set it to visited\n",
    "city = 0\n",
    "visited[city] = True\n",
    "dist = DIST_MATRIX.copy()\n",
    "\n",
    "# List to store results\n",
    "tsp = []\n",
    "tsp.append(int(city))\n",
    "\n",
    "while not np.all(visited):\n",
    "    # Find the minimum cost and the corresponding city among those not yet visited\n",
    "    closest_cost = np.min([dist[city, adj] for adj in range(len(CITIES)) if not visited[adj] and adj != city])\n",
    "    closest = np.where(dist[city] == closest_cost)[0][0]    # e.g. (array([7]),) -> tuple first element, array first element\n",
    "    # Set the found city to visited and add it to the tsp list\n",
    "    visited[closest] = True\n",
    "    tsp.append(int(closest))\n",
    "    # Update city\n",
    "    city = closest\n",
    "\n",
    "# Print result\n",
    "best_path = Individual(tsp)\n",
    "best_path.fitness = calculate_fitness(best_path)\n",
    "print(f\"{len(CITIES)} cities, shortest tour is {best_path.fitness:.2f} km\")\n",
    "print([str(CITIES_NAMES[index]) for index in tsp])"
   ]
  },
  {
   "cell_type": "markdown",
   "metadata": {},
   "source": [
    "### Genetic Algorithm"
   ]
  },
  {
   "cell_type": "markdown",
   "metadata": {},
   "source": [
    "A population is made of *Individual*s. Each individual represents a unique ordered sequence of cities. The initial population is generated randomly, with each individual corresponding to a specific path through all cities. The choice of starting from a random population helps provide a wide search base for the **evolutionary** algorithm, allowing it to explore and optimize solutions more effectively."
   ]
  },
  {
   "cell_type": "code",
   "execution_count": 7,
   "metadata": {},
   "outputs": [],
   "source": [
    "POPULATION_SIZE = 100\n",
    "population = []"
   ]
  },
  {
   "cell_type": "code",
   "execution_count": 8,
   "metadata": {},
   "outputs": [
    {
     "name": "stdout",
     "output_type": "stream",
     "text": [
      "Best path no. 92 with cost 22895.89 km\n"
     ]
    }
   ],
   "source": [
    "rng = np.random.default_rng()\n",
    "\n",
    "while len(population) < POPULATION_SIZE:\n",
    "    new_individual = CITY_INDEXES.copy()\n",
    "    rng.shuffle(new_individual)\n",
    "    if tuple(new_individual) not in [tuple(i.genome) for i in population]:\n",
    "        population.append(Individual(new_individual))\n",
    "\n",
    "for i in population:\n",
    "    i.fitness = calculate_fitness(i)\n",
    "\n",
    "best_path_index = np.argmax([i.fitness for i in population])\n",
    "print(f\"Best path no. {best_path_index} with cost {population[best_path_index].fitness:.2f} km\")"
   ]
  },
  {
   "cell_type": "markdown",
   "metadata": {},
   "source": [
    "### Parents selection"
   ]
  },
  {
   "cell_type": "code",
   "execution_count": 9,
   "metadata": {},
   "outputs": [],
   "source": [
    "def parent_selection(population: np.ndarray) -> Individual:\n",
    "    candidates = sorted(np.random.choice(population, 3), key = lambda i: i.fitness)\n",
    "    return candidates[0]"
   ]
  },
  {
   "cell_type": "markdown",
   "metadata": {},
   "source": [
    "### Mutation and Cross-over"
   ]
  },
  {
   "cell_type": "code",
   "execution_count": 10,
   "metadata": {},
   "outputs": [],
   "source": [
    "# Two possible types of mutation\n",
    "def swap_mutation(individual: Individual) -> Individual:\n",
    "    new_individual = copy.deepcopy(individual)\n",
    "    i1, i2 = np.random.choice(len(individual.genome), 2, replace = False)\n",
    "    new_individual.genome[i1], new_individual.genome[i2] = new_individual.genome[i2], new_individual.genome[i1]\n",
    "    new_individual.fitness = calculate_fitness(new_individual)\n",
    "    return new_individual\n",
    "\n",
    "def displacement_mutation(individual: Individual) -> Individual:\n",
    "    genome = individual.genome\n",
    "    start = np.random.randint(0, len(genome) - 2)   # cut point 1\n",
    "    end = np.random.randint(start + 1, len(genome) - 1) # cut point 2\n",
    "    segment = genome[start: end+1]\n",
    "    genome = np.concatenate((genome[:start], genome[end+1:]))\n",
    "    random_location = np.random.randint(0, len(genome))\n",
    "    new_genome = np.concatenate((genome[:random_location], segment, genome[random_location:]))\n",
    "    new_individual = Individual(new_genome)\n",
    "    new_individual.fitness = calculate_fitness(new_individual)\n",
    "    return new_individual\n",
    "\n",
    "# Two possible types of cross-over\n",
    "def order_crossover(parent1: Individual, parent2: Individual):\n",
    "    parent1, parent2 = Individual(parent1.genome, parent1.fitness), Individual(parent2.genome, parent2.fitness)\n",
    "    size = len(parent1.genome)\n",
    "\n",
    "    child = np.full(size, -1)\n",
    "    start, end = sorted(np.random.choice(size, 2, replace=False))\n",
    "    child[start:end+1] = parent1.genome[start:end+1]\n",
    "    remaining_cities = [city for city in parent2.genome if city not in child]\n",
    "    \n",
    "    j = 0\n",
    "    for i in range(size):\n",
    "        if child[i] == -1:  # Se è un segnaposto (-1)\n",
    "            child[i] = remaining_cities[j]\n",
    "            j += 1\n",
    "\n",
    "    new_individual = Individual(child)\n",
    "    new_individual.fitness = calculate_fitness(new_individual)\n",
    "    \n",
    "    return new_individual\n",
    "\n",
    "def inver_over(parent1: Individual, parent2: Individual) -> Individual:\n",
    "    genome1, genome2 = parent1.genome, parent2.genome\n",
    "\n",
    "    # select one random gene from the first parent\n",
    "    index1 = np.random.randint(0, len(genome1))\n",
    "    gene1 = genome1[index1]\n",
    "\n",
    "    # select edge from the second parent (only one trait)\n",
    "    index2 = np.where(genome2 == gene1)[0][0]\n",
    "    gene2 = genome2[index2+1] if index2 != len(genome2)-1 else genome2[0]   # cyclic genotype\n",
    "\n",
    "    # generate offspring\n",
    "    flip_parent1 = np.concatenate((genome1[index1:], genome1[:index1]))\n",
    "    index_gene2_in_flip_parent1 = np.where(flip_parent1 == gene2)[0][0]\n",
    "    sequence = flip_parent1[1:index_gene2_in_flip_parent1]\n",
    "    offspring_genome = np.concatenate((np.array([gene1]), np.array([gene2]), sequence[::-1], flip_parent1[index_gene2_in_flip_parent1+1:]))\n",
    "    \n",
    "    offspring = Individual(offspring_genome)\n",
    "    offspring.fitness = calculate_fitness(offspring)\n",
    "\n",
    "    return offspring"
   ]
  },
  {
   "cell_type": "code",
   "execution_count": 11,
   "metadata": {},
   "outputs": [],
   "source": [
    "MAX_ATTEMPTS = 10\n",
    "INITIAL_TEMP = 100\n",
    "COOLING_RATE = 0.95\n",
    "\n",
    "def simulated_annealing(individual: Individual) -> Individual:\n",
    "    improved_individual = copy.deepcopy(individual)\n",
    "    temperature = INITIAL_TEMP\n",
    "    for _ in range(MAX_ATTEMPTS):\n",
    "        neighbor = displacement_mutation(improved_individual)\n",
    "        delta_fitness = neighbor.fitness - improved_individual.fitness\n",
    "        if delta_fitness > 0 or np.random.random() < np.exp(delta_fitness/temperature):\n",
    "            improved_individual = neighbor\n",
    "        temperature *= COOLING_RATE\n",
    "    return improved_individual\n",
    "\n",
    "def hill_climbing(individual: Individual) -> Individual:\n",
    "    improved_individual = copy.deepcopy(individual)\n",
    "    for _ in range(MAX_ATTEMPTS):\n",
    "        neighbor = displacement_mutation(improved_individual)\n",
    "        delta_fitness = neighbor.fitness - individual.fitness\n",
    "        if delta_fitness > 0:\n",
    "            improved_individual = neighbor\n",
    "    return improved_individual"
   ]
  },
  {
   "cell_type": "code",
   "execution_count": null,
   "metadata": {},
   "outputs": [
    {
     "data": {
      "application/vnd.jupyter.widget-view+json": {
       "model_id": "3602e44a873c4bf7bdae74c090411b3e",
       "version_major": 2,
       "version_minor": 0
      },
      "text/plain": [
       "  0%|          | 0/1000 [00:00<?, ?it/s]"
      ]
     },
     "metadata": {},
     "output_type": "display_data"
    },
    {
     "name": "stdout",
     "output_type": "stream",
     "text": [
      "46 cities, shortest tour is 4735.07 km\n",
      "['Reggio di Calabria', 'Messina', 'Bari', 'Taranto', 'Andria', 'Foggia', 'Salerno', 'Giugliano in Campania', 'Naples', 'Pescara', 'Rimini', 'Trieste', 'Venice', 'Bolzano', 'Trento', 'Padua', 'Vicenza', 'Verona', 'Brescia', 'Piacenza', 'Bergamo', 'Milan', 'Monza', 'Novara', 'Turin', 'Genoa', 'Leghorn', 'Florence', 'Prato', 'Parma', \"Reggio nell'Emilia\", 'Modena', 'Bologna', 'Ferrara', 'Forlì', 'Ravenna', 'Ancona', 'Perugia', 'Terni', 'Latina', 'Rome', 'Sassari', 'Cagliari', 'Palermo', 'Catania', 'Syracuse']\n",
      "[np.float64(15734.934967660845), np.float64(15734.934967660845), np.float64(15282.34685853357), np.float64(14544.637201277767), np.float64(14544.637201277767), np.float64(14544.637201277767), np.float64(14313.347599302935), np.float64(13499.344166911615), np.float64(13372.522998885364), np.float64(13123.029687789956), np.float64(12718.819300294108), np.float64(12718.819300294108), np.float64(12718.819300294108), np.float64(12718.819300294108), np.float64(12705.663561604577), np.float64(12503.003579826502), np.float64(12305.640981916064), np.float64(12239.623826547971), np.float64(12034.673437798605), np.float64(11996.402200758337), np.float64(11355.257290913132), np.float64(11355.257290913132), np.float64(11355.257290913127), np.float64(11303.963206715973), np.float64(11184.499263025536), np.float64(11091.225228671574), np.float64(11083.831523712332), np.float64(11041.089117612688), np.float64(10992.764703788609), np.float64(10989.670919601334), np.float64(10427.954372779495), np.float64(10354.553691850711), np.float64(10348.074578268277), np.float64(10348.074578268277), np.float64(10090.003691586464), np.float64(10090.00369158646), np.float64(9633.40792328968), np.float64(9633.407923289678), np.float64(9309.760368984153), np.float64(9309.76036898415), np.float64(9066.6273423249), np.float64(9066.6273423249), np.float64(9066.6273423249), np.float64(9003.991312871225), np.float64(8963.955186173633), np.float64(8922.262314606021), np.float64(8922.262314606018), np.float64(8922.262314606018), np.float64(8723.308096521789), np.float64(8723.308096521785), np.float64(8723.308096521785), np.float64(8490.686292845992), np.float64(8490.68629284599), np.float64(8490.68629284599), np.float64(8459.40293826881), np.float64(8197.060118276913), np.float64(8197.060118276913), np.float64(8160.82993125686), np.float64(8089.468076195369), np.float64(8065.831142654154), np.float64(8065.831142654152), np.float64(7969.532519372367), np.float64(7969.532519372367), np.float64(7933.302332352315), np.float64(7876.407293836922), np.float64(7876.407293836919), np.float64(7785.362897037365), np.float64(7756.47173701392), np.float64(7730.667228041567), np.float64(7664.700711624007), np.float64(7664.7007116240065), np.float64(7663.2934980370555), np.float64(7494.546888352045), np.float64(7494.546888352045), np.float64(7494.546888352045), np.float64(7442.993927162467), np.float64(7442.993927162467), np.float64(7264.584537706196), np.float64(7264.584537706196), np.float64(7264.584537706196), np.float64(7264.584537706195), np.float64(7264.584537706195), np.float64(7264.584537706194), np.float64(7264.584537706194), np.float64(7218.908872811996), np.float64(7218.908872811993), np.float64(7218.908872811992), np.float64(7218.908872811992), np.float64(7218.908872811992), np.float64(7218.908872811992), np.float64(7218.908872811992), np.float64(7218.908872811992), np.float64(7218.908872811992), np.float64(7218.908872811992), np.float64(7189.865252665218), np.float64(7189.865252665218), np.float64(7161.111426478255), np.float64(7153.530048397332), np.float64(7153.530048397332), np.float64(7100.515766428286), np.float64(7100.515766428286), np.float64(7100.515766428286), np.float64(7076.525092658874), np.float64(7076.52509265887), np.float64(7076.52509265887), np.float64(7047.781723059569), np.float64(6991.378119591203), np.float64(6965.025212581211), np.float64(6898.826241481256), np.float64(6898.826241481256), np.float64(6898.826241481255), np.float64(6790.352198821621), np.float64(6790.352198821621), np.float64(6790.352198821621), np.float64(6790.352198821621), np.float64(6790.352198821621), np.float64(6790.352198821621), np.float64(6790.352198821621), np.float64(6790.352198821621), np.float64(6790.352198821621), np.float64(6790.352198821621), np.float64(6716.517865983816), np.float64(6716.517865983816), np.float64(6716.517865983816), np.float64(6693.620683564379), np.float64(6685.031892467466), np.float64(6685.031892467465), np.float64(6685.031892467463), np.float64(6685.031892467461), np.float64(6685.031892467461), np.float64(6669.444923527863), np.float64(6669.444923527863), np.float64(6669.444923527862), np.float64(6626.859262862668), np.float64(6626.859262862668), np.float64(6626.859262862668), np.float64(6592.5400202874125), np.float64(6505.078876945343), np.float64(6505.078876945343), np.float64(6505.078876945343), np.float64(6470.75963437009), np.float64(6470.759634370089), np.float64(6470.759634370088), np.float64(6470.759634370088), np.float64(6470.759634370087), np.float64(6470.759634370087), np.float64(6470.759634370087), np.float64(6413.576165959567), np.float64(6413.576165959567), np.float64(6413.576165959567), np.float64(6413.576165959567), np.float64(6335.047917868752), np.float64(6335.047917868752), np.float64(6335.047917868751), np.float64(6335.047917868751), np.float64(6335.047917868751), np.float64(6335.047917868751), np.float64(6292.252517665887), np.float64(6292.252517665887), np.float64(6292.252517665887), np.float64(6292.252517665887), np.float64(6292.252517665887), np.float64(6292.252517665887), np.float64(6292.252517665887), np.float64(6269.378379009), np.float64(6269.378379009), np.float64(6269.378379009), np.float64(6269.378379009), np.float64(6269.378379009), np.float64(6269.378379009), np.float64(6269.378379009), np.float64(6269.378379009), np.float64(6212.6017965724195), np.float64(6212.601796572419), np.float64(6178.9919030887195), np.float64(6178.991903088719), np.float64(6178.991903088719), np.float64(6178.991903088717), np.float64(6178.991903088717), np.float64(6178.991903088717), np.float64(6178.991903088717), np.float64(6178.991903088717), np.float64(6082.581530118587), np.float64(6082.581530118587), np.float64(6082.581530118587), np.float64(6082.069858141332), np.float64(6082.069858141329), np.float64(6047.501393773344), np.float64(6047.501393773344), np.float64(6047.501393773344), np.float64(6047.501393773344), np.float64(5943.531012730281), np.float64(5943.531012730279), np.float64(5943.531012730278), np.float64(5943.531012730278), np.float64(5943.531012730277), np.float64(5943.531012730277), np.float64(5943.531012730277), np.float64(5943.531012730277), np.float64(5943.531012730277), np.float64(5943.531012730277), np.float64(5943.531012730277), np.float64(5943.531012730277), np.float64(5943.531012730277), np.float64(5943.531012730277), np.float64(5943.531012730277), np.float64(5834.893475005018), np.float64(5834.893475005018), np.float64(5834.893475005018), np.float64(5749.669453258941), np.float64(5749.66945325894), np.float64(5749.669453258939), np.float64(5749.669453258939), np.float64(5661.850949464652), np.float64(5661.850949464652), np.float64(5661.850949464652), np.float64(5661.850949464651), np.float64(5661.850949464651), np.float64(5661.850949464651), np.float64(5661.850949464651), np.float64(5661.850949464651), np.float64(5661.850949464651), np.float64(5661.850949464651), np.float64(5661.850949464651), np.float64(5661.850949464651), np.float64(5661.850949464651), np.float64(5661.850949464651), np.float64(5661.850949464651), np.float64(5661.850949464651), np.float64(5661.850949464651), np.float64(5661.850949464651), np.float64(5661.850949464651), np.float64(5661.850949464651), np.float64(5661.850949464651), np.float64(5661.850949464651), np.float64(5661.850949464651), np.float64(5661.850949464651), np.float64(5661.850949464651), np.float64(5661.850949464651), np.float64(5661.850949464651), np.float64(5661.850949464651), np.float64(5661.850949464651), np.float64(5661.850949464651), np.float64(5661.850949464651), np.float64(5661.850949464651), np.float64(5661.850949464651), np.float64(5661.850949464651), np.float64(5661.850949464651), np.float64(5661.850949464651), np.float64(5661.850949464651), np.float64(5661.850949464651), np.float64(5661.850949464651), np.float64(5661.850949464651), np.float64(5604.825153514537), np.float64(5604.8251535145355), np.float64(5604.8251535145355), np.float64(5604.825153514535), np.float64(5604.825153514535), np.float64(5591.155020327423), np.float64(5591.155020327423), np.float64(5591.155020327423), np.float64(5591.155020327422), np.float64(5591.155020327422), np.float64(5591.155020327422), np.float64(5591.155020327422), np.float64(5591.155020327422), np.float64(5591.155020327422), np.float64(5591.155020327422), np.float64(5591.155020327422), np.float64(5591.155020327422), np.float64(5591.155020327422), np.float64(5591.155020327422), np.float64(5591.155020327422), np.float64(5591.155020327422), np.float64(5591.155020327422), np.float64(5591.155020327422), np.float64(5591.155020327422), np.float64(5591.155020327422), np.float64(5591.155020327422), np.float64(5591.155020327422), np.float64(5591.155020327422), np.float64(5591.155020327422), np.float64(5591.155020327422), np.float64(5591.155020327422), np.float64(5591.155020327422), np.float64(5591.155020327422), np.float64(5591.155020327422), np.float64(5310.8496226651605), np.float64(5310.8496226651605), np.float64(5310.8496226651605), np.float64(5310.8496226651605), np.float64(5310.8496226651605), np.float64(5310.8496226651605), np.float64(5310.8496226651605), np.float64(5310.8496226651605), np.float64(5310.8496226651605), np.float64(5310.8496226651605), np.float64(5310.8496226651605), np.float64(5310.8496226651605), np.float64(5310.8496226651605), np.float64(5310.8496226651605), np.float64(5310.8496226651605), np.float64(5310.8496226651605), np.float64(5310.8496226651605), np.float64(5310.8496226651605), np.float64(5214.351516477632), np.float64(5214.351516477631), np.float64(5214.351516477631), np.float64(5214.351516477631), np.float64(5214.351516477631), np.float64(5214.351516477631), np.float64(5214.351516477631), np.float64(5214.351516477631), np.float64(5214.351516477631), np.float64(5214.351516477631), np.float64(5214.351516477631), np.float64(5214.351516477631), np.float64(5214.351516477631), np.float64(5214.351516477631), np.float64(5214.351516477631), np.float64(5214.351516477631), np.float64(5214.351516477631), np.float64(5214.351516477631), np.float64(5214.351516477631), np.float64(5214.351516477631), np.float64(5214.351516477631), np.float64(5214.351516477631), np.float64(5214.351516477631), np.float64(5214.351516477631), np.float64(5214.351516477631), np.float64(5214.351516477631), np.float64(5214.351516477631), np.float64(5214.351516477631), np.float64(5214.351516477631), np.float64(5214.351516477631), np.float64(5214.351516477631), np.float64(5214.351516477631), np.float64(5213.432013041879), np.float64(5213.432013041879), np.float64(5213.432013041878), np.float64(5213.432013041878), np.float64(5204.506831413412), np.float64(5204.506831413411), np.float64(5204.506831413411), np.float64(5204.506831413411), np.float64(5204.506831413411), np.float64(5204.506831413411), np.float64(5204.506831413411), np.float64(5204.506831413411), np.float64(5204.506831413411), np.float64(5204.506831413411), np.float64(5204.506831413411), np.float64(5204.506831413411), np.float64(5204.506831413411), np.float64(5204.506831413411), np.float64(5204.506831413411), np.float64(5204.506831413411), np.float64(5204.506831413411), np.float64(5204.506831413411), np.float64(5204.506831413411), np.float64(5204.506831413411), np.float64(5204.506831413411), np.float64(5204.506831413411), np.float64(5204.506831413411), np.float64(5204.506831413411), np.float64(5204.506831413411), np.float64(5204.506831413411), np.float64(5204.506831413411), np.float64(5204.506831413411), np.float64(5204.506831413411), np.float64(5204.506831413411), np.float64(5204.506831413411), np.float64(5204.506831413411), np.float64(5204.506831413411), np.float64(5204.506831413411), np.float64(5204.506831413411), np.float64(5204.506831413411), np.float64(5204.506831413411), np.float64(5204.506831413411), np.float64(5204.506831413411), np.float64(5204.506831413411), np.float64(5204.506831413411), np.float64(5204.506831413411), np.float64(5204.506831413411), np.float64(5204.506831413411), np.float64(5204.506831413411), np.float64(5204.506831413411), np.float64(5204.506831413411), np.float64(5204.506831413411), np.float64(5204.506831413411), np.float64(5204.506831413411), np.float64(5204.506831413411), np.float64(5204.506831413411), np.float64(5204.506831413411), np.float64(5204.506831413411), np.float64(5204.506831413411), np.float64(5204.506831413411), np.float64(5204.506831413411), np.float64(5204.506831413411), np.float64(5204.506831413411), np.float64(5204.506831413411), np.float64(5204.506831413411), np.float64(5204.506831413411), np.float64(5187.619862301222), np.float64(5187.619862301221), np.float64(5187.619862301221), np.float64(5187.619862301221), np.float64(5187.619862301221), np.float64(5187.619862301221), np.float64(5187.619862301221), np.float64(5187.619862301221), np.float64(5187.619862301221), np.float64(5113.132921372279), np.float64(5113.132921372279), np.float64(5113.132921372279), np.float64(5113.132921372279), np.float64(5112.883390863528), np.float64(5112.883390863528), np.float64(5112.883390863528), np.float64(5112.883390863527), np.float64(5112.883390863527), np.float64(5073.533410830149), np.float64(5073.533410830149), np.float64(5073.533410830148), np.float64(5073.533410830147), np.float64(5073.533410830147), np.float64(5073.533410830147), np.float64(5073.533410830147), np.float64(5073.533410830147), np.float64(5073.533410830147), np.float64(5073.533410830147), np.float64(5073.533410830147), np.float64(5073.533410830147), np.float64(5073.533410830147), np.float64(5073.533410830147), np.float64(5073.533410830147), np.float64(5073.533410830147), np.float64(5073.533410830147), np.float64(5073.533410830147), np.float64(5073.533410830147), np.float64(5073.533410830147), np.float64(5073.533410830147), np.float64(5073.533410830147), np.float64(5073.533410830147), np.float64(5073.533410830147), np.float64(5073.533410830147), np.float64(5073.533410830147), np.float64(5073.533410830147), np.float64(5073.533410830147), np.float64(5073.533410830147), np.float64(5073.533410830147), np.float64(5073.533410830147), np.float64(5073.533410830147), np.float64(5073.533410830147), np.float64(5073.533410830147), np.float64(5073.533410830147), np.float64(5073.533410830147), np.float64(5073.533410830147), np.float64(5073.533410830147), np.float64(5073.533410830147), np.float64(4998.955231218259), np.float64(4998.955231218259), np.float64(4998.955231218258), np.float64(4998.955231218258), np.float64(4998.955231218256), np.float64(4998.955231218256), np.float64(4998.955231218256), np.float64(4998.955231218256), np.float64(4998.955231218256), np.float64(4998.955231218256), np.float64(4998.955231218256), np.float64(4998.955231218256), np.float64(4998.955231218256), np.float64(4998.955231218256), np.float64(4998.955231218256), np.float64(4998.955231218256), np.float64(4998.955231218256), np.float64(4998.955231218256), np.float64(4998.955231218256), np.float64(4998.955231218256), np.float64(4998.955231218256), np.float64(4998.955231218256), np.float64(4998.955231218256), np.float64(4998.955231218256), np.float64(4998.955231218256), np.float64(4998.955231218256), np.float64(4998.955231218256), np.float64(4998.955231218256), np.float64(4998.955231218256), np.float64(4932.383037361671), np.float64(4932.383037361671), np.float64(4932.383037361669), np.float64(4932.383037361669), np.float64(4932.383037361669), np.float64(4932.383037361669), np.float64(4932.383037361669), np.float64(4932.383037361669), np.float64(4932.383037361669), np.float64(4932.383037361669), np.float64(4932.383037361669), np.float64(4932.383037361669), np.float64(4932.383037361669), np.float64(4932.383037361669), np.float64(4932.383037361669), np.float64(4932.383037361669), np.float64(4932.383037361669), np.float64(4932.383037361669), np.float64(4932.383037361669), np.float64(4932.383037361669), np.float64(4932.383037361669), np.float64(4932.383037361669), np.float64(4932.383037361669), np.float64(4932.383037361669), np.float64(4932.383037361669), np.float64(4932.383037361669), np.float64(4932.383037361669), np.float64(4932.383037361669), np.float64(4932.383037361669), np.float64(4932.383037361669), np.float64(4932.383037361669), np.float64(4932.383037361669), np.float64(4932.383037361669), np.float64(4932.383037361669), np.float64(4932.383037361669), np.float64(4932.383037361669), np.float64(4932.383037361669), np.float64(4932.383037361669), np.float64(4932.383037361669), np.float64(4932.383037361669), np.float64(4932.383037361669), np.float64(4932.383037361669), np.float64(4932.383037361669), np.float64(4932.383037361669), np.float64(4932.383037361669), np.float64(4932.383037361669), np.float64(4932.383037361669), np.float64(4932.383037361669), np.float64(4932.383037361669), np.float64(4932.383037361669), np.float64(4932.383037361669), np.float64(4932.383037361669), np.float64(4932.383037361669), np.float64(4932.383037361669), np.float64(4932.383037361669), np.float64(4932.383037361669), np.float64(4932.383037361669), np.float64(4932.383037361669), np.float64(4932.383037361669), np.float64(4932.383037361669), np.float64(4932.383037361669), np.float64(4932.383037361669), np.float64(4932.383037361669), np.float64(4932.383037361669), np.float64(4932.383037361669), np.float64(4932.383037361669), np.float64(4932.383037361669), np.float64(4932.383037361669), np.float64(4932.383037361669), np.float64(4932.383037361669), np.float64(4932.383037361669), np.float64(4932.383037361669), np.float64(4932.383037361669), np.float64(4932.383037361669), np.float64(4878.276635978811), np.float64(4878.27663597881), np.float64(4878.27663597881), np.float64(4878.27663597881), np.float64(4878.276635978809), np.float64(4878.276635978809), np.float64(4878.276635978809), np.float64(4878.276635978809), np.float64(4878.276635978809), np.float64(4878.276635978809), np.float64(4878.276635978809), np.float64(4878.276635978809), np.float64(4878.276635978809), np.float64(4878.276635978809), np.float64(4878.276635978809), np.float64(4878.276635978809), np.float64(4878.276635978809), np.float64(4878.276635978809), np.float64(4878.276635978809), np.float64(4878.276635978809), np.float64(4878.276635978809), np.float64(4878.276635978809), np.float64(4878.276635978809), np.float64(4878.276635978809), np.float64(4878.276635978809), np.float64(4878.276635978809), np.float64(4878.276635978809), np.float64(4878.276635978809), np.float64(4878.276635978809), np.float64(4878.276635978809), np.float64(4878.276635978809), np.float64(4878.276635978809), np.float64(4878.276635978809), np.float64(4878.276635978809), np.float64(4878.276635978809), np.float64(4878.276635978809), np.float64(4878.276635978809), np.float64(4878.276635978809), np.float64(4878.276635978809), np.float64(4878.276635978809), np.float64(4878.276635978809), np.float64(4878.276635978809), np.float64(4878.276635978809), np.float64(4878.276635978809), np.float64(4878.276635978809), np.float64(4878.276635978809), np.float64(4878.276635978809), np.float64(4878.276635978809), np.float64(4878.276635978809), np.float64(4878.276635978809), np.float64(4878.276635978809), np.float64(4878.276635978809), np.float64(4878.276635978809), np.float64(4878.276635978809), np.float64(4878.276635978809), np.float64(4878.276635978809), np.float64(4878.276635978809), np.float64(4878.276635978809), np.float64(4878.276635978809), np.float64(4878.276635978809), np.float64(4878.276635978809), np.float64(4878.276635978809), np.float64(4878.276635978809), np.float64(4878.276635978809), np.float64(4878.276635978809), np.float64(4878.276635978809), np.float64(4878.276635978809), np.float64(4878.276635978809), np.float64(4878.276635978809), np.float64(4878.276635978809), np.float64(4878.276635978809), np.float64(4878.276635978809), np.float64(4878.276635978809), np.float64(4878.276635978809), np.float64(4878.276635978809), np.float64(4878.276635978809), np.float64(4878.276635978809), np.float64(4878.276635978809), np.float64(4878.276635978809), np.float64(4878.276635978809), np.float64(4878.276635978809), np.float64(4878.276635978809), np.float64(4878.276635978809), np.float64(4878.276635978809), np.float64(4878.276635978809), np.float64(4878.276635978809), np.float64(4878.276635978809), np.float64(4878.276635978809), np.float64(4878.276635978809), np.float64(4878.276635978809), np.float64(4878.276635978809), np.float64(4878.276635978809), np.float64(4878.276635978809), np.float64(4878.276635978809), np.float64(4878.276635978809), np.float64(4878.276635978809), np.float64(4878.276635978809), np.float64(4878.276635978809), np.float64(4878.276635978809), np.float64(4878.276635978809), np.float64(4878.276635978809), np.float64(4878.276635978809), np.float64(4878.276635978809), np.float64(4878.276635978809), np.float64(4878.276635978809), np.float64(4878.276635978809), np.float64(4878.276635978809), np.float64(4878.276635978809), np.float64(4878.276635978809), np.float64(4878.276635978809), np.float64(4878.276635978809), np.float64(4878.276635978809), np.float64(4878.276635978809), np.float64(4878.276635978809), np.float64(4878.276635978809), np.float64(4878.276635978809), np.float64(4878.276635978809), np.float64(4878.276635978809), np.float64(4878.276635978809), np.float64(4878.276635978809), np.float64(4878.276635978809), np.float64(4878.276635978809), np.float64(4878.276635978809), np.float64(4878.276635978809), np.float64(4878.276635978809), np.float64(4878.276635978809), np.float64(4878.276635978809), np.float64(4878.276635978809), np.float64(4878.276635978809), np.float64(4878.276635978809), np.float64(4878.276635978809), np.float64(4878.276635978809), np.float64(4878.276635978809), np.float64(4878.276635978809), np.float64(4878.276635978809), np.float64(4878.276635978809), np.float64(4878.276635978809), np.float64(4878.276635978809), np.float64(4878.276635978809), np.float64(4878.276635978809), np.float64(4878.276635978809), np.float64(4878.276635978809), np.float64(4878.276635978809), np.float64(4878.276635978809), np.float64(4878.276635978809), np.float64(4878.276635978809), np.float64(4878.276635978809), np.float64(4878.276635978809), np.float64(4878.276635978809), np.float64(4878.276635978809), np.float64(4878.276635978809), np.float64(4875.5216684037905), np.float64(4875.5216684037905), np.float64(4875.5216684037905), np.float64(4766.492640734891), np.float64(4766.492640734891), np.float64(4766.492640734891), np.float64(4766.492640734891), np.float64(4766.492640734891), np.float64(4766.492640734891), np.float64(4766.492640734891), np.float64(4766.492640734891), np.float64(4766.492640734891), np.float64(4766.492640734891), np.float64(4766.492640734891), np.float64(4766.492640734891), np.float64(4766.492640734891), np.float64(4766.492640734891), np.float64(4766.492640734891), np.float64(4766.492640734891), np.float64(4766.492640734891), np.float64(4766.492640734891), np.float64(4766.492640734891), np.float64(4766.492640734891), np.float64(4766.492640734891), np.float64(4766.492640734891), np.float64(4766.492640734891), np.float64(4766.492640734891), np.float64(4766.492640734891), np.float64(4766.492640734891), np.float64(4766.492640734891), np.float64(4766.492640734891), np.float64(4766.492640734891), np.float64(4766.492640734891), np.float64(4766.492640734891), np.float64(4766.492640734891), np.float64(4766.492640734891), np.float64(4766.492640734891), np.float64(4766.492640734891), np.float64(4766.492640734891), np.float64(4766.492640734891), np.float64(4766.492640734891), np.float64(4766.492640734891), np.float64(4766.492640734891), np.float64(4766.492640734891), np.float64(4766.492640734891), np.float64(4766.492640734891), np.float64(4766.492640734891), np.float64(4735.070394794508), np.float64(4735.070394794507), np.float64(4735.070394794507), np.float64(4735.070394794507), np.float64(4735.070394794507), np.float64(4735.070394794507), np.float64(4735.070394794507), np.float64(4735.070394794507), np.float64(4735.070394794507), np.float64(4735.070394794507), np.float64(4735.070394794507), np.float64(4735.070394794507), np.float64(4735.070394794507), np.float64(4735.070394794507), np.float64(4735.070394794507), np.float64(4735.070394794507), np.float64(4735.070394794507), np.float64(4735.070394794507), np.float64(4735.070394794507), np.float64(4735.070394794507), np.float64(4735.070394794507), np.float64(4735.070394794507), np.float64(4735.070394794507), np.float64(4735.070394794507), np.float64(4735.070394794507), np.float64(4735.070394794507), np.float64(4735.070394794507), np.float64(4735.070394794507), np.float64(4735.070394794507), np.float64(4735.070394794507), np.float64(4735.070394794507), np.float64(4735.070394794507), np.float64(4735.070394794507), np.float64(4735.070394794507), np.float64(4735.070394794507), np.float64(4735.070394794507), np.float64(4735.070394794507), np.float64(4735.070394794507), np.float64(4735.070394794507), np.float64(4735.070394794507), np.float64(4735.070394794507), np.float64(4735.070394794507), np.float64(4735.070394794507), np.float64(4735.070394794507), np.float64(4735.070394794507), np.float64(4735.070394794507), np.float64(4735.070394794507), np.float64(4735.070394794507), np.float64(4735.070394794507), np.float64(4735.070394794507), np.float64(4735.070394794507), np.float64(4735.070394794507), np.float64(4735.070394794507), np.float64(4735.070394794507), np.float64(4735.070394794507), np.float64(4735.070394794507), np.float64(4735.070394794507), np.float64(4735.070394794507), np.float64(4735.070394794507), np.float64(4735.070394794507), np.float64(4735.070394794507), np.float64(4735.070394794507), np.float64(4735.070394794507), np.float64(4735.070394794507), np.float64(4735.070394794507), np.float64(4735.070394794507), np.float64(4735.070394794507), np.float64(4735.070394794507), np.float64(4735.070394794507), np.float64(4735.070394794507), np.float64(4735.070394794507), np.float64(4735.070394794507), np.float64(4735.070394794507), np.float64(4735.070394794507), np.float64(4735.070394794507), np.float64(4735.070394794507), np.float64(4735.070394794507), np.float64(4735.070394794507), np.float64(4735.070394794507), np.float64(4735.070394794507), np.float64(4735.070394794507), np.float64(4735.070394794507), np.float64(4735.070394794507), np.float64(4735.070394794507), np.float64(4735.070394794507), np.float64(4735.070394794507), np.float64(4735.070394794507), np.float64(4735.070394794507), np.float64(4735.070394794507), np.float64(4735.070394794507), np.float64(4735.070394794507), np.float64(4735.070394794507), np.float64(4735.070394794507), np.float64(4735.070394794507), np.float64(4735.070394794507), np.float64(4735.070394794507), np.float64(4735.070394794507), np.float64(4735.070394794507), np.float64(4735.070394794507), np.float64(4735.070394794507), np.float64(4735.070394794507), np.float64(4735.070394794507), np.float64(4735.070394794507), np.float64(4735.070394794507), np.float64(4735.070394794507), np.float64(4735.070394794507), np.float64(4735.070394794507), np.float64(4735.070394794507), np.float64(4735.070394794507), np.float64(4735.070394794507), np.float64(4735.070394794507), np.float64(4735.070394794507), np.float64(4735.070394794507), np.float64(4735.070394794507), np.float64(4735.070394794507), np.float64(4735.070394794507), np.float64(4735.070394794507), np.float64(4735.070394794507), np.float64(4735.070394794507), np.float64(4735.070394794507), np.float64(4735.070394794507), np.float64(4735.070394794507), np.float64(4735.070394794507), np.float64(4735.070394794507), np.float64(4735.070394794507), np.float64(4735.070394794507), np.float64(4735.070394794507), np.float64(4735.070394794507), np.float64(4735.070394794507), np.float64(4735.070394794507), np.float64(4735.070394794507), np.float64(4735.070394794507), np.float64(4735.070394794507), np.float64(4735.070394794507), np.float64(4735.070394794507), np.float64(4735.070394794507), np.float64(4735.070394794507), np.float64(4735.070394794507), np.float64(4735.070394794507), np.float64(4735.070394794507), np.float64(4735.070394794507), np.float64(4735.070394794507), np.float64(4735.070394794507), np.float64(4735.070394794507), np.float64(4735.070394794507), np.float64(4735.070394794507), np.float64(4735.070394794507), np.float64(4735.070394794507), np.float64(4735.070394794507), np.float64(4735.070394794507), np.float64(4735.070394794507), np.float64(4735.070394794507), np.float64(4735.070394794507), np.float64(4735.070394794507), np.float64(4735.070394794507), np.float64(4735.070394794507), np.float64(4735.070394794507), np.float64(4735.070394794507), np.float64(4735.070394794507), np.float64(4735.070394794507), np.float64(4735.070394794507), np.float64(4735.070394794507), np.float64(4735.070394794507), np.float64(4735.070394794507), np.float64(4735.070394794507), np.float64(4735.070394794507), np.float64(4735.070394794507), np.float64(4735.070394794507), np.float64(4735.070394794507), np.float64(4735.070394794507), np.float64(4735.070394794507), np.float64(4735.070394794507), np.float64(4735.070394794507), np.float64(4735.070394794507), np.float64(4735.070394794507), np.float64(4735.070394794507), np.float64(4735.070394794507), np.float64(4735.070394794507), np.float64(4735.070394794507), np.float64(4735.070394794507), np.float64(4735.070394794507), np.float64(4735.070394794507), np.float64(4735.070394794507), np.float64(4735.070394794507), np.float64(4735.070394794507), np.float64(4735.070394794507), np.float64(4735.070394794507), np.float64(4735.070394794507), np.float64(4735.070394794507), np.float64(4735.070394794507), np.float64(4735.070394794507), np.float64(4735.070394794507), np.float64(4735.070394794507), np.float64(4735.070394794507), np.float64(4735.070394794507), np.float64(4735.070394794507), np.float64(4735.070394794507), np.float64(4735.070394794507), np.float64(4735.070394794507), np.float64(4735.070394794507), np.float64(4735.070394794507), np.float64(4735.070394794507), np.float64(4735.070394794507), np.float64(4735.070394794507), np.float64(4735.070394794507), np.float64(4735.070394794507), np.float64(4735.070394794507), np.float64(4735.070394794507), np.float64(4735.070394794507), np.float64(4735.070394794507), np.float64(4735.070394794507), np.float64(4735.070394794507), np.float64(4735.070394794507), np.float64(4735.070394794507), np.float64(4735.070394794507), np.float64(4735.070394794507), np.float64(4735.070394794507), np.float64(4735.070394794507), np.float64(4735.070394794507), np.float64(4735.070394794507), np.float64(4735.070394794507), np.float64(4735.070394794507), np.float64(4735.070394794507), np.float64(4735.070394794507), np.float64(4735.070394794507), np.float64(4735.070394794507), np.float64(4735.070394794507), np.float64(4735.070394794507), np.float64(4735.070394794507), np.float64(4735.070394794507), np.float64(4735.070394794507), np.float64(4735.070394794507), np.float64(4735.070394794507), np.float64(4735.070394794507), np.float64(4735.070394794507), np.float64(4735.070394794507), np.float64(4735.070394794507), np.float64(4735.070394794507), np.float64(4735.070394794507)]\n"
     ]
    }
   ],
   "source": [
    "MUTATION_PROBABILITY = .01\n",
    "CROSSOVER_PROBABILITY = .85\n",
    "NUM_GENERATIONS = 1000\n",
    "\n",
    "best_fitness = []\n",
    "\n",
    "for _ in tqdm(range(NUM_GENERATIONS)):\n",
    "    population.sort(key = lambda i: i.fitness)\n",
    "    best_fitness.append(population[0].fitness)\n",
    "    elite_count = int(0.05 * POPULATION_SIZE)\n",
    "    new_population = [population[i] for i in range(elite_count)]\n",
    "    while len(new_population) < POPULATION_SIZE:\n",
    "        xover_probability = np.random.random()\n",
    "        if xover_probability < CROSSOVER_PROBABILITY:\n",
    "            parent1 = parent_selection(population)\n",
    "            parent2 = parent_selection(population)\n",
    "            offspring = inver_over(parent1, parent2)\n",
    "            mutation_probability = np.random.random()\n",
    "            if mutation_probability < MUTATION_PROBABILITY:\n",
    "                offspring = displacement_mutation(offspring)\n",
    "        else:   # no crossover\n",
    "            parent1 = parent_selection(population)\n",
    "            mutation_probability = np.random.random()\n",
    "            if mutation_probability < MUTATION_PROBABILITY:\n",
    "                offspring = displacement_mutation(parent1)\n",
    "            else:\n",
    "                offspring = parent1\n",
    "        new_population.append(offspring)\n",
    "    population = new_population\n",
    "\n",
    "population.sort(key = lambda i: i.fitness)\n",
    "shortest_path = [str(CITIES_NAMES[index]) for index in population[0].genome]\n",
    "print(f\"{len(CITIES)} cities, shortest tour is {population[0].fitness:.2f} km\")\n",
    "print(shortest_path)\n",
    "print(best_fitness)"
   ]
  },
  {
   "cell_type": "markdown",
   "metadata": {},
   "source": [
    "### Graphic visualization"
   ]
  },
  {
   "cell_type": "code",
   "execution_count": null,
   "metadata": {},
   "outputs": [],
   "source": [
    "lat_shortest = [CITIES.iloc[index]['Lat'] for index in population[0].genome]\n",
    "long_shortest = [CITIES.iloc[index]['Long'] for index in population[0].genome]\n",
    "lat_shortest.append(lat_shortest[0])\n",
    "long_shortest.append(long_shortest[0])"
   ]
  },
  {
   "cell_type": "code",
   "execution_count": null,
   "metadata": {},
   "outputs": [],
   "source": [
    "fig, ax = plt.subplots()\n",
    "ax.plot(lat_shortest, long_shortest, '--go', label='Best Route', linewidth=1)\n",
    "plt.legend()\n",
    "\n",
    "plt.title(label=\"TSP Best Route Using GA\", fontsize=15, color=\"k\")\n",
    "str_params = '\\n'+str(NUM_GENERATIONS)+' Generations\\n'+str(POPULATION_SIZE)+' Population Size\\n'+str(CROSSOVER_PROBABILITY)+' Crossover\\n'+str(MUTATION_PROBABILITY)+' Mutation'\n",
    "plt.suptitle(\"Total Distance Travelled: \" + \n",
    "             str(round(population[0].fitness, 2)) + \" km\" + \n",
    "             str_params, fontsize=15, y = 1.047)\n",
    "\n",
    "fig.set_size_inches(12, 10)    \n",
    "plt.show()"
   ]
  }
 ],
 "metadata": {
  "kernelspec": {
   "display_name": "CI2024",
   "language": "python",
   "name": "python3"
  },
  "language_info": {
   "codemirror_mode": {
    "name": "ipython",
    "version": 3
   },
   "file_extension": ".py",
   "mimetype": "text/x-python",
   "name": "python",
   "nbconvert_exporter": "python",
   "pygments_lexer": "ipython3",
   "version": "3.10.11"
  }
 },
 "nbformat": 4,
 "nbformat_minor": 2
}

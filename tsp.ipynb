{
 "cells": [
  {
   "cell_type": "markdown",
   "metadata": {},
   "source": [
    "Copyright (c) 2024 Agnese Re <agnesere43@gmail.com>\\\n",
    "GitHub account: https://github.com/AgneseRe"
   ]
  },
  {
   "cell_type": "code",
   "execution_count": 846,
   "metadata": {},
   "outputs": [],
   "source": [
    "# Import libraries\n",
    "import pandas as pd\n",
    "import numpy as np\n",
    "import copy\n",
    "import matplotlib.pyplot as plt\n",
    "\n",
    "from icecream import ic\n",
    "from itertools import combinations\n",
    "from geopy.distance import geodesic\n",
    "from dataclasses import dataclass"
   ]
  },
  {
   "cell_type": "markdown",
   "metadata": {},
   "source": [
    "## Read csv and compute distance matrix\n",
    "Read a comma-separated values (csv) file into DataFrame using *read_csv* function of **pandas** library. The file does not contain any header, the first line already contains the name and geographical coordinates of a city. Columns names are passed explicitly to *names* parameter. Using the *geodesic* function of **geopy** library, the geodesic distance in kilometers between each pair of cities is computed.\n"
   ]
  },
  {
   "cell_type": "code",
   "execution_count": 847,
   "metadata": {},
   "outputs": [],
   "source": [
    "CITIES = pd.read_csv(\"cities/china.csv\", sep = \",\", header = None, names = ['Name', 'Lat', 'Long'])\n",
    "DIST_MATRIX = np.zeros((len(CITIES), len(CITIES)))\n",
    "for c1, c2 in combinations(CITIES.itertuples(), 2):\n",
    "    DIST_MATRIX[c1.Index, c2.Index] = DIST_MATRIX[c2.Index, c1.Index] = geodesic(\n",
    "        (c1.Lat, c1.Long), (c2.Lat, c2.Long)\n",
    "    ).km"
   ]
  },
  {
   "cell_type": "code",
   "execution_count": 848,
   "metadata": {},
   "outputs": [
    {
     "data": {
      "text/html": [
       "<div>\n",
       "<style scoped>\n",
       "    .dataframe tbody tr th:only-of-type {\n",
       "        vertical-align: middle;\n",
       "    }\n",
       "\n",
       "    .dataframe tbody tr th {\n",
       "        vertical-align: top;\n",
       "    }\n",
       "\n",
       "    .dataframe thead th {\n",
       "        text-align: right;\n",
       "    }\n",
       "</style>\n",
       "<table border=\"1\" class=\"dataframe\">\n",
       "  <thead>\n",
       "    <tr style=\"text-align: right;\">\n",
       "      <th></th>\n",
       "      <th>Name</th>\n",
       "      <th>Lat</th>\n",
       "      <th>Long</th>\n",
       "    </tr>\n",
       "  </thead>\n",
       "  <tbody>\n",
       "    <tr>\n",
       "      <th>0</th>\n",
       "      <td>Acheng</td>\n",
       "      <td>45.540000</td>\n",
       "      <td>126.960000</td>\n",
       "    </tr>\n",
       "    <tr>\n",
       "      <th>1</th>\n",
       "      <td>Aksu</td>\n",
       "      <td>41.150000</td>\n",
       "      <td>80.250000</td>\n",
       "    </tr>\n",
       "    <tr>\n",
       "      <th>2</th>\n",
       "      <td>Alaer</td>\n",
       "      <td>40.515556</td>\n",
       "      <td>81.263611</td>\n",
       "    </tr>\n",
       "    <tr>\n",
       "      <th>3</th>\n",
       "      <td>Altay</td>\n",
       "      <td>47.840000</td>\n",
       "      <td>88.130000</td>\n",
       "    </tr>\n",
       "    <tr>\n",
       "      <th>4</th>\n",
       "      <td>Anbu</td>\n",
       "      <td>23.460000</td>\n",
       "      <td>116.680000</td>\n",
       "    </tr>\n",
       "  </tbody>\n",
       "</table>\n",
       "</div>"
      ],
      "text/plain": [
       "     Name        Lat        Long\n",
       "0  Acheng  45.540000  126.960000\n",
       "1    Aksu  41.150000   80.250000\n",
       "2   Alaer  40.515556   81.263611\n",
       "3   Altay  47.840000   88.130000\n",
       "4    Anbu  23.460000  116.680000"
      ]
     },
     "execution_count": 848,
     "metadata": {},
     "output_type": "execute_result"
    }
   ],
   "source": [
    "CITIES.head()   # first 5 rows of the CITIES dataframe"
   ]
  },
  {
   "cell_type": "code",
   "execution_count": 849,
   "metadata": {},
   "outputs": [],
   "source": [
    "CITIES_NAMES, CITY_INDEXES = map(np.array, zip(*[(city['Name'], i) for i, city in CITIES.iterrows()]))"
   ]
  },
  {
   "cell_type": "markdown",
   "metadata": {},
   "source": [
    "## Data Class and fitness function definition\n",
    "The data class *Individual* is defined. The *genome* attribute holds an individual's genome. The *fitness* attribute quantifies how well the individual performs with respect to the objective function. Initially, it is set to *None*. The fitness score will be calculate later, after the genome is evaluated.  \n",
    "*e.g.* If the number of cities for TSP is equal to 8, a possible *Individual* object is ```Individual(genome=array([7, 3, 0, 2, 1, 6, 4, 5]), fitness=np.float64(-2306.6849123742595))```."
   ]
  },
  {
   "cell_type": "code",
   "execution_count": 850,
   "metadata": {},
   "outputs": [],
   "source": [
    "@dataclass\n",
    "class Individual:\n",
    "    genome: np.ndarray\n",
    "    fitness: float = None\n",
    "\n",
    "def calculate_fitness(individual: Individual) -> float:\n",
    "    tot_cost = 0.0\n",
    "    for c1, c2 in zip(individual.genome, np.concatenate((individual.genome[1:], individual.genome[:1]))):\n",
    "        tot_cost += DIST_MATRIX[c1, c2]\n",
    "    return -tot_cost"
   ]
  },
  {
   "cell_type": "markdown",
   "metadata": {},
   "source": [
    "## Greedy Approach\n",
    "Start from city 0 and move, from time to time, to the *nearest* city. It's an algorithm that leads to immediate cost gain, but becomes awful in the process. It is a relatively fast approach (*e.g.* 8 steps in case of 8 cities), but it leads to an approximate solution."
   ]
  },
  {
   "cell_type": "code",
   "execution_count": null,
   "metadata": {},
   "outputs": [],
   "source": [
    "# At the beginning, no city is visited\n",
    "visited = np.full(len(CITIES), False)\n",
    "\n",
    "# Set the starting point and set it to visited\n",
    "city = 0\n",
    "visited[city] = True\n",
    "dist = DIST_MATRIX.copy()\n",
    "\n",
    "# List to store results\n",
    "tsp = []\n",
    "tsp.append(int(city))\n",
    "\n",
    "while not np.all(visited):\n",
    "    # Find the minimum cost and the corresponding city among those not yet visited\n",
    "    closest_cost = np.min([dist[city, adj] for adj in range(len(CITIES)) if not visited[adj] and adj != city])\n",
    "    closest = np.where(dist[city] == closest_cost)[0][0]    # e.g. (array([7]),) -> tuple first element, array first element\n",
    "    # Set the found city to visited and add it to the tsp list\n",
    "    visited[closest] = True\n",
    "    tsp.append(int(closest))\n",
    "    # Update city\n",
    "    city = closest\n",
    "\n",
    "# Print result\n",
    "best_path = Individual(tsp)\n",
    "best_path.fitness = calculate_fitness(best_path)\n",
    "print(f\"{len(CITIES)} cities, shortest tour is {-best_path.fitness:.2f} km\")\n",
    "print([str(CITIES_NAMES[index]) for index in tsp])"
   ]
  },
  {
   "cell_type": "markdown",
   "metadata": {},
   "source": [
    "## Evolutionary Algorithm"
   ]
  },
  {
   "cell_type": "markdown",
   "metadata": {},
   "source": [
    "A population is made of *Individual*s, where each of them represents a unique ordered sequence of cities. The initial population is created using a *greedy* approach. Instead of starting with purely random permutations, each individual begins from a randomly selected city and follows a \"greedy neighbor\" heuristic to build the path, choosing one of the closest three cities at each step. The choice of starting from an almost *random* population helps provide a wide search base for the **evolutionary** algorithm, allowing it to explore and optimize solutions more effectively."
   ]
  },
  {
   "cell_type": "code",
   "execution_count": 851,
   "metadata": {},
   "outputs": [],
   "source": [
    "POPULATION_SIZE = 100\n",
    "population = []\n",
    "rng = np.random.default_rng()"
   ]
  },
  {
   "cell_type": "code",
   "execution_count": 852,
   "metadata": {},
   "outputs": [],
   "source": [
    "def greedy_neighbor(start_city, k = 3):\n",
    "    unvisited = set(CITY_INDEXES)\n",
    "    unvisited.remove(start_city)\n",
    "    current_city = start_city\n",
    "    path = [int(current_city)]\n",
    "    \n",
    "    while unvisited:\n",
    "        # Choose a random city from the closest three (element of randomness)\n",
    "        neighbors = sorted(unvisited, key=lambda city: DIST_MATRIX[current_city][city])[:k]\n",
    "        next_city = rng.choice(neighbors)\n",
    "\n",
    "        path.append(int(next_city))\n",
    "        unvisited.remove(next_city)\n",
    "        current_city = next_city\n",
    "    \n",
    "    new_individual = Individual(np.array(path))\n",
    "    new_individual.fitness = calculate_fitness(new_individual)\n",
    "    \n",
    "    return new_individual"
   ]
  },
  {
   "cell_type": "markdown",
   "metadata": {},
   "source": [
    "### Parents selection"
   ]
  },
  {
   "cell_type": "code",
   "execution_count": 853,
   "metadata": {},
   "outputs": [],
   "source": [
    "def parent_selection(population: np.ndarray) -> Individual:\n",
    "    candidates = sorted(np.random.choice(population, 2), key = lambda i: i.fitness, reverse=True)\n",
    "    return candidates[0]"
   ]
  },
  {
   "cell_type": "markdown",
   "metadata": {},
   "source": [
    "### Mutation and Cross-over"
   ]
  },
  {
   "cell_type": "markdown",
   "metadata": {},
   "source": [
    "A new offspring is constructed mutating one selected parent or crossing over two of them. The *displacement mutation* and the *inver-over crossover* were found to be the best strategies for obtaining good results."
   ]
  },
  {
   "cell_type": "code",
   "execution_count": 854,
   "metadata": {},
   "outputs": [],
   "source": [
    "# Two possible types of mutation\n",
    "def swap_mutation(individual: Individual) -> Individual:\n",
    "    new_individual = copy.deepcopy(individual)\n",
    "    i1, i2 = np.random.choice(len(individual.genome), 2, replace = False)\n",
    "    new_individual.genome[i1], new_individual.genome[i2] = new_individual.genome[i2], new_individual.genome[i1]\n",
    "    new_individual.fitness = calculate_fitness(new_individual)\n",
    "    return new_individual\n",
    "\n",
    "def displacement_mutation(individual: Individual) -> Individual:\n",
    "    genome = individual.genome\n",
    "    start = np.random.randint(0, len(genome) - 2)   # cut point 1\n",
    "    end = np.random.randint(start + 1, len(genome) - 1) # cut point 2\n",
    "    segment = genome[start: end+1]\n",
    "    genome = np.concatenate((genome[:start], genome[end+1:]))\n",
    "    random_location = np.random.randint(0, len(genome))\n",
    "    new_genome = np.concatenate((genome[:random_location], segment, genome[random_location:]))\n",
    "    new_individual = Individual(new_genome)\n",
    "    new_individual.fitness = calculate_fitness(new_individual)\n",
    "    return new_individual\n",
    "\n",
    "# Two possible types of cross-over\n",
    "def order_crossover(parent1: Individual, parent2: Individual):\n",
    "    parent1, parent2 = Individual(parent1.genome, parent1.fitness), Individual(parent2.genome, parent2.fitness)\n",
    "    size = len(parent1.genome)\n",
    "\n",
    "    child = np.full(size, -1)\n",
    "    start, end = sorted(np.random.choice(size, 2, replace=False))\n",
    "    child[start:end+1] = parent1.genome[start:end+1]\n",
    "    remaining_cities = [city for city in parent2.genome if city not in child]\n",
    "    \n",
    "    j = 0\n",
    "    for i in range(size):\n",
    "        if child[i] == -1:  # Se è un segnaposto (-1)\n",
    "            child[i] = remaining_cities[j]\n",
    "            j += 1\n",
    "\n",
    "    new_individual = Individual(child)\n",
    "    new_individual.fitness = calculate_fitness(new_individual)\n",
    "    \n",
    "    return new_individual\n",
    "\n",
    "def inver_over(parent1: Individual, parent2: Individual) -> Individual:\n",
    "    genome1, genome2 = parent1.genome, parent2.genome\n",
    "\n",
    "    # select one random gene from the first parent\n",
    "    index1 = np.random.randint(0, len(genome1))\n",
    "    gene1 = genome1[index1]\n",
    "\n",
    "    # select edge from the second parent (only one trait)\n",
    "    index2 = np.where(genome2 == gene1)[0][0]\n",
    "    gene2 = genome2[index2+1] if index2 != len(genome2)-1 else genome2[0]   # cyclic genotype\n",
    "\n",
    "    # generate offspring\n",
    "    flip_parent1 = np.concatenate((genome1[index1:], genome1[:index1]))\n",
    "    index_gene2_in_flip_parent1 = np.where(flip_parent1 == gene2)[0][0]\n",
    "    sequence = flip_parent1[1:index_gene2_in_flip_parent1]\n",
    "    offspring_genome = np.concatenate((np.array([gene1]), np.array([gene2]), sequence[::-1], flip_parent1[index_gene2_in_flip_parent1+1:]))\n",
    "    \n",
    "    offspring = Individual(offspring_genome)\n",
    "    offspring.fitness = calculate_fitness(offspring)\n",
    "\n",
    "    return offspring"
   ]
  },
  {
   "cell_type": "markdown",
   "metadata": {},
   "source": [
    "### Hill climbing and Simulated Annealing\n",
    "Local search optimization techniques have been integrated into the genetic algorithm. The *hill climbing* technique was found to be useful for achieving optimal results."
   ]
  },
  {
   "cell_type": "code",
   "execution_count": 855,
   "metadata": {},
   "outputs": [],
   "source": [
    "MAX_ATTEMPTS = 20\n",
    "INITIAL_TEMP = 100\n",
    "COOLING_RATE = 0.95\n",
    "\n",
    "def simulated_annealing(individual: Individual) -> Individual:\n",
    "    improved_individual = copy.deepcopy(individual)\n",
    "    temperature = INITIAL_TEMP\n",
    "    for _ in range(MAX_ATTEMPTS):\n",
    "        neighbor = displacement_mutation(improved_individual)\n",
    "        delta_fitness = neighbor.fitness - improved_individual.fitness\n",
    "        if delta_fitness > 0 or np.random.random() < np.exp(delta_fitness/temperature):\n",
    "            improved_individual = neighbor\n",
    "        temperature *= COOLING_RATE\n",
    "    return improved_individual\n",
    "\n",
    "def hill_climbing(individual: Individual) -> Individual:\n",
    "    improved_individual = copy.deepcopy(individual)\n",
    "    for _ in range(MAX_ATTEMPTS):\n",
    "        neighbor = displacement_mutation(improved_individual)\n",
    "        delta_fitness = neighbor.fitness - individual.fitness\n",
    "        if delta_fitness > 0:\n",
    "            improved_individual = neighbor\n",
    "    return improved_individual"
   ]
  },
  {
   "cell_type": "code",
   "execution_count": 857,
   "metadata": {},
   "outputs": [],
   "source": [
    "# Initial population\n",
    "for _ in range(POPULATION_SIZE):\n",
    "       start_city = int(rng.choice(CITY_INDEXES))\n",
    "       population.append(greedy_neighbor(start_city))\n",
    "# print(sorted([i.fitness for i in population], reverse=True))"
   ]
  },
  {
   "cell_type": "markdown",
   "metadata": {},
   "source": [
    "### Process"
   ]
  },
  {
   "cell_type": "code",
   "execution_count": null,
   "metadata": {},
   "outputs": [],
   "source": [
    "CROSSOVER_PROBABILITY = .40\n",
    "OFFSPRING_SIZE = POPULATION_SIZE//5\n",
    "NUM_GENERATIONS = 100_000\n",
    "\n",
    "for _ in range(NUM_GENERATIONS):\n",
    "    population.sort(key = lambda i: i.fitness, reverse=True)\n",
    "    offsprings = []\n",
    "    \n",
    "    while len(offsprings) < OFFSPRING_SIZE:\n",
    "        xover_probability = np.random.random()\n",
    "        if xover_probability < CROSSOVER_PROBABILITY:\n",
    "            parent1 = parent_selection(population)\n",
    "            parent2 = parent_selection(population)\n",
    "            offspring = inver_over(parent1, parent2)\n",
    "        else:   # no crossover\n",
    "            parent1 = parent_selection(population)\n",
    "            offspring = displacement_mutation(parent1)\n",
    "\n",
    "        offsprings.append(hill_climbing(offspring))\n",
    "    population.extend(offsprings)\n",
    "    population.sort(key=lambda i: i.fitness, reverse=True)\n",
    "    population = population[:POPULATION_SIZE]\n",
    "\n",
    "population.sort(key = lambda i: i.fitness, reverse = True)\n",
    "shortest_path = [str(CITIES_NAMES[index]) for index in population[0].genome]\n",
    "print(f\"{len(CITIES)} cities, shortest tour is {-population[0].fitness:.2f} km\")\n",
    "print(shortest_path)"
   ]
  },
  {
   "cell_type": "markdown",
   "metadata": {},
   "source": [
    "## Plotting"
   ]
  },
  {
   "cell_type": "code",
   "execution_count": null,
   "metadata": {},
   "outputs": [],
   "source": [
    "lat_shortest = [CITIES.iloc[index]['Lat'] for index in population[0].genome]\n",
    "long_shortest = [CITIES.iloc[index]['Long'] for index in population[0].genome]\n",
    "lat_shortest.append(lat_shortest[0])\n",
    "long_shortest.append(long_shortest[0])\n",
    "\n",
    "fig, ax = plt.subplots()\n",
    "ax.plot(lat_shortest, long_shortest, linestyle=\"-.\", color=\"blue\", label='Best Route', linewidth=1)\n",
    "ax.scatter(lat_shortest, long_shortest, color='red', marker='o', label='Cities', s=20)\n",
    "plt.legend()\n",
    "\n",
    "plt.title(label=\"TSP Best Route Using GA\", fontsize=15, color=\"k\")\n",
    "str_params = f'\\n{NUM_GENERATIONS} Generations\\n{POPULATION_SIZE} Population Size\\n{CROSSOVER_PROBABILITY:.2f} Cross-over'\n",
    "plt.suptitle(\"Total Distance Travelled: \" + \n",
    "             str(round(population[0].fitness, 2))[1:] + \" km\" + \n",
    "             str_params, fontsize=15, y = 1.047)\n",
    "\n",
    "fig.set_size_inches(8, 8)  \n",
    "plt.tight_layout()  \n",
    "plt.savefig('plots/tsp_best_route_china_100_000.png', dpi=300, bbox_inches='tight')\n",
    "plt.show()"
   ]
  }
 ],
 "metadata": {
  "kernelspec": {
   "display_name": "CI2024",
   "language": "python",
   "name": "python3"
  },
  "language_info": {
   "codemirror_mode": {
    "name": "ipython",
    "version": 3
   },
   "file_extension": ".py",
   "mimetype": "text/x-python",
   "name": "python",
   "nbconvert_exporter": "python",
   "pygments_lexer": "ipython3",
   "version": "3.10.11"
  }
 },
 "nbformat": 4,
 "nbformat_minor": 2
}
